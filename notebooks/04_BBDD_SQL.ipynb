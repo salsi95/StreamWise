{
 "cells": [
  {
   "cell_type": "code",
   "execution_count": 2,
   "metadata": {},
   "outputs": [],
   "source": [
    "%load_ext autoreload\n",
    "%autoreload 2\n",
    "import sys  # System-specific parameters and functions\n",
    "sys.path.append(\"../\")  # Adding the parent directory to the system path\n",
    "from tqdm import tqdm\n",
    "from src import sp_bbdd as sb\n",
    "from src import dicc_query_creacion as dq\n",
    "import psycopg2\n",
    "from dotenv import load_dotenv\n",
    "import os\n",
    "load_dotenv()\n",
    "import pymongo\n",
    "import numpy as np\n",
    "import pandas as pd\n",
    "\n",
    "\n",
    "\n"
   ]
  },
  {
   "cell_type": "code",
   "execution_count": 3,
   "metadata": {},
   "outputs": [],
   "source": [
    "cliente = pymongo.MongoClient()\n",
    "# nos conectamos con una BBDD \n",
    "imdb = cliente['IMDB']\n",
    "peliculas = imdb['Peliculas']\n",
    "actores = imdb['Actores']\n",
    "api = imdb['Api']"
   ]
  },
  {
   "cell_type": "code",
   "execution_count": 190,
   "metadata": {},
   "outputs": [],
   "source": [
    "postres = sb.postgres('StreamWise_1', \"postgres\", 'admin', 'localhost', '5432')"
   ]
  },
  {
   "cell_type": "code",
   "execution_count": 191,
   "metadata": {},
   "outputs": [],
   "source": [
    "for query in dq.dicc_query_creacion.values():\n",
    "    postres.query_creacion(query)"
   ]
  },
  {
   "cell_type": "markdown",
   "metadata": {},
   "source": [
    "# Genero"
   ]
  },
  {
   "cell_type": "code",
   "execution_count": 79,
   "metadata": {},
   "outputs": [],
   "source": [
    "generos = set()\n",
    "for peli in list(api.find()):\n",
    "    for genero in peli['genre']:\n",
    "        generos.add(genero)\n",
    "list_generos = []\n",
    "for i, genero in enumerate(list(generos), start=1):\n",
    "    list_generos.append((i,genero))"
   ]
  },
  {
   "cell_type": "code",
   "execution_count": 85,
   "metadata": {},
   "outputs": [],
   "source": [
    "df_gen = pd.DataFrame(list_generos, columns =['id_genero','nombre'])"
   ]
  },
  {
   "cell_type": "markdown",
   "metadata": {},
   "source": [
    "# Tipos"
   ]
  },
  {
   "cell_type": "code",
   "execution_count": 92,
   "metadata": {},
   "outputs": [],
   "source": [
    "tipos = set()\n",
    "for peli in list(api.find()):\n",
    "    tipos.add(peli['type'])\n",
    "list_tipos = []\n",
    "for i, tipo in enumerate(list(tipos), start=1):\n",
    "    list_tipos.append((i,tipo))"
   ]
  },
  {
   "cell_type": "code",
   "execution_count": 93,
   "metadata": {},
   "outputs": [],
   "source": [
    "df_tipos = pd.DataFrame(list_tipos, columns =['id_tipo', 'nombre'])"
   ]
  },
  {
   "cell_type": "code",
   "execution_count": 9,
   "metadata": {},
   "outputs": [
    {
     "name": "stdout",
     "output_type": "stream",
     "text": [
      "27 registros insertados\n"
     ]
    }
   ],
   "source": [
    "postres.query_insercion(dq.dicc_query_insercion['genero'], postres.lista_tuplas_peque(generos))"
   ]
  },
  {
   "cell_type": "markdown",
   "metadata": {},
   "source": [
    "# PELIS"
   ]
  },
  {
   "cell_type": "code",
   "execution_count": 10,
   "metadata": {},
   "outputs": [
    {
     "name": "stderr",
     "output_type": "stream",
     "text": [
      "100%|██████████| 31487/31487 [1:00:01<00:00,  8.74it/s]\n"
     ]
    }
   ],
   "source": [
    "lista_peliculas = []\n",
    "for peli in tqdm(list(peliculas.find())):\n",
    "    imdb = peli['id_IMDB']\n",
    "    titulo = api.find_one({'id':peli['id_IMDB']})['title']\n",
    "    year = api.find_one({'id':peli['id_IMDB']})['year']\n",
    "    genero = api.find_one({'id':peli['id_IMDB']})['genre']\n",
    "    tipo = api.find_one({'id':peli['id_IMDB']})['type']\n",
    "    puntuacion = peli['puntuacion']\n",
    "    duracion = peli['duracion']\n",
    "\n",
    "    tupla = (imdb,titulo, year, genero, tipo, puntuacion, duracion)\n",
    "\n",
    "    lista_peliculas.append(tupla)"
   ]
  },
  {
   "cell_type": "code",
   "execution_count": 214,
   "metadata": {},
   "outputs": [],
   "source": [
    "df_pelis =  pd.DataFrame(lista_peliculas, columns =['id','titulo', 'año', 'genero','tipo','puntuacion', 'duracion'])\n"
   ]
  },
  {
   "cell_type": "code",
   "execution_count": 215,
   "metadata": {},
   "outputs": [
    {
     "data": {
      "text/html": [
       "<div>\n",
       "<style scoped>\n",
       "    .dataframe tbody tr th:only-of-type {\n",
       "        vertical-align: middle;\n",
       "    }\n",
       "\n",
       "    .dataframe tbody tr th {\n",
       "        vertical-align: top;\n",
       "    }\n",
       "\n",
       "    .dataframe thead th {\n",
       "        text-align: right;\n",
       "    }\n",
       "</style>\n",
       "<table border=\"1\" class=\"dataframe\">\n",
       "  <thead>\n",
       "    <tr style=\"text-align: right;\">\n",
       "      <th></th>\n",
       "      <th>id</th>\n",
       "      <th>titulo</th>\n",
       "      <th>año</th>\n",
       "      <th>genero</th>\n",
       "      <th>tipo</th>\n",
       "      <th>puntuacion</th>\n",
       "      <th>duracion</th>\n",
       "    </tr>\n",
       "  </thead>\n",
       "  <tbody>\n",
       "    <tr>\n",
       "      <th>0</th>\n",
       "      <td>tt0102921</td>\n",
       "      <td>Si da jia zu zhi long hu xiong di</td>\n",
       "      <td>1991</td>\n",
       "      <td>[Action]</td>\n",
       "      <td>Movie</td>\n",
       "      <td>6.7</td>\n",
       "      <td>116.0</td>\n",
       "    </tr>\n",
       "    <tr>\n",
       "      <th>1</th>\n",
       "      <td>tt0102593</td>\n",
       "      <td>One Good Cop</td>\n",
       "      <td>1991</td>\n",
       "      <td>[Action]</td>\n",
       "      <td>Movie</td>\n",
       "      <td>5.8</td>\n",
       "      <td>114.0</td>\n",
       "    </tr>\n",
       "    <tr>\n",
       "      <th>2</th>\n",
       "      <td>tt0102844</td>\n",
       "      <td>Saudagar</td>\n",
       "      <td>1991</td>\n",
       "      <td>[Action]</td>\n",
       "      <td>Movie</td>\n",
       "      <td>6.7</td>\n",
       "      <td>213.0</td>\n",
       "    </tr>\n",
       "    <tr>\n",
       "      <th>3</th>\n",
       "      <td>tt0102814</td>\n",
       "      <td>Sa Tam Chai yue Chow Si Lai</td>\n",
       "      <td>1991</td>\n",
       "      <td>[Action]</td>\n",
       "      <td>Movie</td>\n",
       "      <td>5.3</td>\n",
       "      <td>89.0</td>\n",
       "    </tr>\n",
       "    <tr>\n",
       "      <th>4</th>\n",
       "      <td>tt0102655</td>\n",
       "      <td>The Perfect Weapon</td>\n",
       "      <td>1991</td>\n",
       "      <td>[Action]</td>\n",
       "      <td>Movie</td>\n",
       "      <td>6.0</td>\n",
       "      <td>112.0</td>\n",
       "    </tr>\n",
       "    <tr>\n",
       "      <th>...</th>\n",
       "      <td>...</td>\n",
       "      <td>...</td>\n",
       "      <td>...</td>\n",
       "      <td>...</td>\n",
       "      <td>...</td>\n",
       "      <td>...</td>\n",
       "      <td>...</td>\n",
       "    </tr>\n",
       "    <tr>\n",
       "      <th>31482</th>\n",
       "      <td>tt12058584</td>\n",
       "      <td>Schachnovelle</td>\n",
       "      <td>2021</td>\n",
       "      <td>[War]</td>\n",
       "      <td>Movie</td>\n",
       "      <td>6.8</td>\n",
       "      <td>110.0</td>\n",
       "    </tr>\n",
       "    <tr>\n",
       "      <th>31483</th>\n",
       "      <td>tt12199174</td>\n",
       "      <td>Pan ni zhe</td>\n",
       "      <td>2021</td>\n",
       "      <td>[War]</td>\n",
       "      <td>TV Series</td>\n",
       "      <td>8.3</td>\n",
       "      <td>45.0</td>\n",
       "    </tr>\n",
       "    <tr>\n",
       "      <th>31484</th>\n",
       "      <td>tt10013998</td>\n",
       "      <td>Episode #1.8</td>\n",
       "      <td>2012</td>\n",
       "      <td>[Drama]</td>\n",
       "      <td>TV Episode</td>\n",
       "      <td>NaN</td>\n",
       "      <td>NaN</td>\n",
       "    </tr>\n",
       "    <tr>\n",
       "      <th>31485</th>\n",
       "      <td>tt10014002</td>\n",
       "      <td>Episode #1.9</td>\n",
       "      <td>2012</td>\n",
       "      <td>[Drama]</td>\n",
       "      <td>TV Episode</td>\n",
       "      <td>NaN</td>\n",
       "      <td>NaN</td>\n",
       "    </tr>\n",
       "    <tr>\n",
       "      <th>31486</th>\n",
       "      <td>tt10014018</td>\n",
       "      <td>Episode #1.17</td>\n",
       "      <td>2012</td>\n",
       "      <td>[Drama]</td>\n",
       "      <td>TV Episode</td>\n",
       "      <td>NaN</td>\n",
       "      <td>NaN</td>\n",
       "    </tr>\n",
       "  </tbody>\n",
       "</table>\n",
       "<p>31487 rows × 7 columns</p>\n",
       "</div>"
      ],
      "text/plain": [
       "               id                             titulo   año    genero  \\\n",
       "0       tt0102921  Si da jia zu zhi long hu xiong di  1991  [Action]   \n",
       "1       tt0102593                       One Good Cop  1991  [Action]   \n",
       "2       tt0102844                           Saudagar  1991  [Action]   \n",
       "3       tt0102814        Sa Tam Chai yue Chow Si Lai  1991  [Action]   \n",
       "4       tt0102655                 The Perfect Weapon  1991  [Action]   \n",
       "...           ...                                ...   ...       ...   \n",
       "31482  tt12058584                      Schachnovelle  2021     [War]   \n",
       "31483  tt12199174                         Pan ni zhe  2021     [War]   \n",
       "31484  tt10013998                       Episode #1.8  2012   [Drama]   \n",
       "31485  tt10014002                       Episode #1.9  2012   [Drama]   \n",
       "31486  tt10014018                      Episode #1.17  2012   [Drama]   \n",
       "\n",
       "             tipo  puntuacion  duracion  \n",
       "0           Movie         6.7     116.0  \n",
       "1           Movie         5.8     114.0  \n",
       "2           Movie         6.7     213.0  \n",
       "3           Movie         5.3      89.0  \n",
       "4           Movie         6.0     112.0  \n",
       "...           ...         ...       ...  \n",
       "31482       Movie         6.8     110.0  \n",
       "31483   TV Series         8.3      45.0  \n",
       "31484  TV Episode         NaN       NaN  \n",
       "31485  TV Episode         NaN       NaN  \n",
       "31486  TV Episode         NaN       NaN  \n",
       "\n",
       "[31487 rows x 7 columns]"
      ]
     },
     "execution_count": 215,
     "metadata": {},
     "output_type": "execute_result"
    }
   ],
   "source": [
    "df_pelis"
   ]
  },
  {
   "cell_type": "code",
   "execution_count": 14,
   "metadata": {},
   "outputs": [],
   "source": [
    "df_pelis.to_csv('../data/df_pelis.csv')"
   ]
  },
  {
   "cell_type": "code",
   "execution_count": 57,
   "metadata": {},
   "outputs": [
    {
     "name": "stdout",
     "output_type": "stream",
     "text": [
      "29062 registros insertados\n"
     ]
    }
   ],
   "source": [
    "postres.query_insercion(dq.dicc_query_insercion['peli'], lista_peliculas)"
   ]
  },
  {
   "cell_type": "markdown",
   "metadata": {},
   "source": [
    "# Personas\n",
    "- actores\n",
    "- directores\n",
    "- Guionistas"
   ]
  },
  {
   "cell_type": "code",
   "execution_count": 16,
   "metadata": {},
   "outputs": [
    {
     "name": "stderr",
     "output_type": "stream",
     "text": [
      "100%|██████████| 31487/31487 [08:50<00:00, 59.32it/s]  \n",
      "100%|██████████| 8930/8930 [00:00<00:00, 1130106.95it/s]\n"
     ]
    }
   ],
   "source": [
    "lista_personas = []\n",
    "for peli in tqdm(list(peliculas.find())):\n",
    "    for director in peli['direccion']:\n",
    "        if actores.find_one({'nombre':director}):\n",
    "            if  type(actores.find_one({'nombre':director})['roles']) is float:\n",
    "                continue\n",
    "            elif  type(actores.find_one({'nombre':director})['roles']) is not list:\n",
    "                continue\n",
    "            elif 'Dirección' in actores.find_one({'nombre':director})['roles']:\n",
    "                continue\n",
    "            else:\n",
    "                actores.update_one({'nombre':director},{'$set': {'roles': actores.find_one({'nombre':director})['roles'].append('Dirección')}})\n",
    "            \n",
    "        else:\n",
    "            nombre = director\n",
    "            año = np.nan\n",
    "            conocido = list(pd.DataFrame(peliculas.find({'direccion': director},{'id_IMDB':1, '_id':0}))['id_IMDB'])\n",
    "            roles = ['Dirección']\n",
    "            premios = np.nan\n",
    "            nominaciones = np.nan\n",
    "            tupla = (nombre,año,conocido, roles, premios, nominaciones)\n",
    "            lista_personas.append(tupla)\n",
    "                \n",
    "    for guionista in peli['guion']:\n",
    "        if actores.find_one({'nombre':guionista}):\n",
    "            if  type(actores.find_one({'nombre':guionista})['roles']) is float:\n",
    "                continue\n",
    "            elif  type(actores.find_one({'nombre':guionista})['roles']) is not list:\n",
    "                continue\n",
    "            elif 'Guion' in actores.find_one({'nombre':guionista})['roles'] :\n",
    "                continue\n",
    "            else:\n",
    "                actores.update_one({'nombre':guionista},{'$set': {'roles': actores.find_one({'nombre':guionista})['roles'].append('Guion')}})\n",
    "\n",
    "\n",
    "        else:\n",
    "            nombre = guionista\n",
    "            año = np.nan\n",
    "            conocido = list(pd.DataFrame(peliculas.find({'guion': guionista},{'id_IMDB':1, '_id':0}))['id_IMDB'])\n",
    "            roles = ['Guion']\n",
    "            premios = np.nan\n",
    "            nominaciones = np.nan\n",
    "            tupla = (nombre,año,conocido, roles, premios, nominaciones)\n",
    "            lista_personas.append(tupla)\n",
    "\n",
    "for actor in tqdm(list(actores.find())):\n",
    "    nombre = actor['nombre']\n",
    "    año = actor['year']\n",
    "    conocido = actor['conocido']\n",
    "    roles = actor['roles']\n",
    "    premios = actor['premios']\n",
    "    try:\n",
    "        nominaciones = actor['nominaciones']\n",
    "    except:\n",
    "        nominaciones = np.nan\n",
    "    tupla = (nombre,año,conocido, roles, premios, nominaciones)\n",
    "    lista_personas.append(tupla)\n"
   ]
  },
  {
   "cell_type": "code",
   "execution_count": 18,
   "metadata": {},
   "outputs": [],
   "source": [
    "df_personas = pd.DataFrame(lista_personas, columns=['nombre', 'año', 'conocido', 'roles', 'premios', 'nominaciones'])\n"
   ]
  },
  {
   "cell_type": "markdown",
   "metadata": {},
   "source": [
    "# Roles"
   ]
  },
  {
   "cell_type": "code",
   "execution_count": 120,
   "metadata": {},
   "outputs": [],
   "source": [
    "roless = set()\n",
    "for roles in df_personas['roles']:\n",
    "    if type(roles) is not list:\n",
    "        continue\n",
    "    for rol in roles:\n",
    "        if any(char.isdigit() for char in rol):\n",
    "            continue\n",
    "        roless.add(rol)\n",
    "\n",
    "list_roles = []\n",
    "for i, rol in enumerate(list(roless), start=1):\n",
    "    list_roles.append((i,rol))\n"
   ]
  },
  {
   "cell_type": "code",
   "execution_count": 122,
   "metadata": {},
   "outputs": [],
   "source": [
    "df_roles = pd.DataFrame(list_roles, columns =['id_rol','nombre'])"
   ]
  },
  {
   "cell_type": "markdown",
   "metadata": {},
   "source": [
    "# Relaciones"
   ]
  },
  {
   "cell_type": "code",
   "execution_count": 230,
   "metadata": {},
   "outputs": [],
   "source": [
    "df_relaciones = df_pelis[['id', 'genero', 'tipo']].merge(df_tipos, how = 'inner', left_on='tipo', right_on='nombre')"
   ]
  },
  {
   "cell_type": "code",
   "execution_count": 231,
   "metadata": {},
   "outputs": [],
   "source": [
    "df_relaciones.drop(['tipo','nombre'], axis = 1, inplace=True)"
   ]
  },
  {
   "cell_type": "code",
   "execution_count": 232,
   "metadata": {},
   "outputs": [],
   "source": [
    "df_relaciones = df_relaciones.explode('genero')"
   ]
  },
  {
   "cell_type": "code",
   "execution_count": 233,
   "metadata": {},
   "outputs": [],
   "source": [
    "df_relaciones = df_relaciones.merge(df_gen, how='inner',left_on='genero', right_on='nombre')"
   ]
  },
  {
   "cell_type": "code",
   "execution_count": 234,
   "metadata": {},
   "outputs": [],
   "source": [
    "df_relaciones.drop(['nombre', 'genero'], axis = 1, inplace=True)"
   ]
  },
  {
   "cell_type": "code",
   "execution_count": 235,
   "metadata": {},
   "outputs": [],
   "source": [
    "df_personas['id_persona'] = df_personas.reset_index().index + 1"
   ]
  },
  {
   "cell_type": "code",
   "execution_count": 236,
   "metadata": {},
   "outputs": [],
   "source": [
    "df_personas = df_personas[['id_persona'] + [col for col in df_personas.columns if col != 'id_persona']]"
   ]
  },
  {
   "cell_type": "code",
   "execution_count": 238,
   "metadata": {},
   "outputs": [],
   "source": [
    "df_personas_explode = df_personas.explode('conocido').explode('roles').drop(['nombre', 'año', 'premios', 'nominaciones'], axis = 1)"
   ]
  },
  {
   "cell_type": "code",
   "execution_count": 239,
   "metadata": {},
   "outputs": [],
   "source": [
    "df_personas_explode = df_personas_explode.merge(df_roles, how='inner', left_on='roles', right_on='nombre').drop(['roles', 'nombre'], axis = 1)"
   ]
  },
  {
   "cell_type": "code",
   "execution_count": 240,
   "metadata": {},
   "outputs": [],
   "source": [
    "df_relaciones = df_relaciones.merge(df_personas_explode, how='inner', left_on='id', right_on='conocido').drop('conocido', axis =1)"
   ]
  },
  {
   "cell_type": "code",
   "execution_count": 241,
   "metadata": {},
   "outputs": [],
   "source": [
    "df_relaciones.rename(columns = {'id':'id_pelicula'},inplace=True)"
   ]
  },
  {
   "cell_type": "markdown",
   "metadata": {},
   "source": [
    "# Inserción"
   ]
  },
  {
   "cell_type": "code",
   "execution_count": 196,
   "metadata": {},
   "outputs": [
    {
     "name": "stdout",
     "output_type": "stream",
     "text": [
      "[[1, 'Adult'], [2, 'Comedy'], [3, 'War'], [4, 'Music'], [5, 'Sci-Fi'], [6, 'Reality-TV'], [7, 'Fantasy'], [8, 'Romance'], [9, 'Family'], [10, 'Crime'], [11, 'Sport'], [12, 'Thriller'], [13, 'Action'], [14, 'Musical'], [15, 'Biography'], [16, 'Animation'], [17, 'Talk-Show'], [18, 'News'], [19, 'Game-Show'], [20, 'Drama'], [21, 'Documentary'], [22, 'Adventure'], [23, 'Western'], [24, 'Short'], [25, 'History'], [26, 'Mystery'], [27, 'Horror']]\n",
      "INSERT INTO \"genero\" (id_genero, nombre) VALUES (%s, %s)\n",
      "27 registros insertados\n"
     ]
    }
   ],
   "source": [
    "postres.query_insercion('genero', df_gen)"
   ]
  },
  {
   "cell_type": "code",
   "execution_count": 200,
   "metadata": {},
   "outputs": [
    {
     "name": "stdout",
     "output_type": "stream",
     "text": [
      "13 registros insertados\n"
     ]
    }
   ],
   "source": [
    "postres.query_insercion('tipo', df_tipos)"
   ]
  },
  {
   "cell_type": "code",
   "execution_count": 202,
   "metadata": {},
   "outputs": [
    {
     "name": "stdout",
     "output_type": "stream",
     "text": [
      "57 registros insertados\n"
     ]
    }
   ],
   "source": [
    "postres.query_insercion('rol', df_roles)\n"
   ]
  },
  {
   "cell_type": "code",
   "execution_count": 207,
   "metadata": {},
   "outputs": [],
   "source": [
    "df_pelis = df_pelis[['id', 'titulo', 'año', 'puntuacion', 'duracion']]\n",
    "df_pelis.rename(columns={'id':'id_pelicula'},inplace=True)"
   ]
  },
  {
   "cell_type": "code",
   "execution_count": 211,
   "metadata": {},
   "outputs": [
    {
     "name": "stdout",
     "output_type": "stream",
     "text": [
      "31487 registros insertados\n"
     ]
    }
   ],
   "source": [
    "postres.query_insercion('pelicula', df_pelis)"
   ]
  },
  {
   "cell_type": "code",
   "execution_count": 245,
   "metadata": {},
   "outputs": [],
   "source": [
    "df_personas = df_personas[['id_persona', 'nombre', 'año', 'premios', 'nominaciones']]"
   ]
  },
  {
   "cell_type": "code",
   "execution_count": 250,
   "metadata": {},
   "outputs": [
    {
     "name": "stdout",
     "output_type": "stream",
     "text": [
      "38577 registros insertados\n"
     ]
    }
   ],
   "source": [
    "postres.query_insercion('persona', df_personas)"
   ]
  },
  {
   "cell_type": "code",
   "execution_count": 251,
   "metadata": {},
   "outputs": [
    {
     "data": {
      "text/html": [
       "<div>\n",
       "<style scoped>\n",
       "    .dataframe tbody tr th:only-of-type {\n",
       "        vertical-align: middle;\n",
       "    }\n",
       "\n",
       "    .dataframe tbody tr th {\n",
       "        vertical-align: top;\n",
       "    }\n",
       "\n",
       "    .dataframe thead th {\n",
       "        text-align: right;\n",
       "    }\n",
       "</style>\n",
       "<table border=\"1\" class=\"dataframe\">\n",
       "  <thead>\n",
       "    <tr style=\"text-align: right;\">\n",
       "      <th></th>\n",
       "      <th>id_pelicula</th>\n",
       "      <th>id_tipo</th>\n",
       "      <th>id_genero</th>\n",
       "      <th>id_persona</th>\n",
       "      <th>id_rol</th>\n",
       "    </tr>\n",
       "  </thead>\n",
       "  <tbody>\n",
       "    <tr>\n",
       "      <th>0</th>\n",
       "      <td>tt0102921</td>\n",
       "      <td>12</td>\n",
       "      <td>13</td>\n",
       "      <td>1</td>\n",
       "      <td>19</td>\n",
       "    </tr>\n",
       "    <tr>\n",
       "      <th>1</th>\n",
       "      <td>tt0102921</td>\n",
       "      <td>12</td>\n",
       "      <td>13</td>\n",
       "      <td>2</td>\n",
       "      <td>18</td>\n",
       "    </tr>\n",
       "    <tr>\n",
       "      <th>2</th>\n",
       "      <td>tt0102921</td>\n",
       "      <td>12</td>\n",
       "      <td>13</td>\n",
       "      <td>3</td>\n",
       "      <td>18</td>\n",
       "    </tr>\n",
       "    <tr>\n",
       "      <th>3</th>\n",
       "      <td>tt0102921</td>\n",
       "      <td>12</td>\n",
       "      <td>13</td>\n",
       "      <td>270</td>\n",
       "      <td>18</td>\n",
       "    </tr>\n",
       "    <tr>\n",
       "      <th>4</th>\n",
       "      <td>tt0102921</td>\n",
       "      <td>12</td>\n",
       "      <td>13</td>\n",
       "      <td>282</td>\n",
       "      <td>18</td>\n",
       "    </tr>\n",
       "    <tr>\n",
       "      <th>...</th>\n",
       "      <td>...</td>\n",
       "      <td>...</td>\n",
       "      <td>...</td>\n",
       "      <td>...</td>\n",
       "      <td>...</td>\n",
       "    </tr>\n",
       "    <tr>\n",
       "      <th>65468</th>\n",
       "      <td>tt12058584</td>\n",
       "      <td>12</td>\n",
       "      <td>3</td>\n",
       "      <td>29643</td>\n",
       "      <td>18</td>\n",
       "    </tr>\n",
       "    <tr>\n",
       "      <th>65469</th>\n",
       "      <td>tt12058584</td>\n",
       "      <td>12</td>\n",
       "      <td>3</td>\n",
       "      <td>29644</td>\n",
       "      <td>18</td>\n",
       "    </tr>\n",
       "    <tr>\n",
       "      <th>65470</th>\n",
       "      <td>tt12199174</td>\n",
       "      <td>10</td>\n",
       "      <td>3</td>\n",
       "      <td>29645</td>\n",
       "      <td>19</td>\n",
       "    </tr>\n",
       "    <tr>\n",
       "      <th>65471</th>\n",
       "      <td>tt12199174</td>\n",
       "      <td>10</td>\n",
       "      <td>3</td>\n",
       "      <td>29646</td>\n",
       "      <td>19</td>\n",
       "    </tr>\n",
       "    <tr>\n",
       "      <th>65472</th>\n",
       "      <td>tt12199174</td>\n",
       "      <td>10</td>\n",
       "      <td>3</td>\n",
       "      <td>29647</td>\n",
       "      <td>19</td>\n",
       "    </tr>\n",
       "  </tbody>\n",
       "</table>\n",
       "<p>65473 rows × 5 columns</p>\n",
       "</div>"
      ],
      "text/plain": [
       "      id_pelicula  id_tipo  id_genero  id_persona  id_rol\n",
       "0       tt0102921       12         13           1      19\n",
       "1       tt0102921       12         13           2      18\n",
       "2       tt0102921       12         13           3      18\n",
       "3       tt0102921       12         13         270      18\n",
       "4       tt0102921       12         13         282      18\n",
       "...           ...      ...        ...         ...     ...\n",
       "65468  tt12058584       12          3       29643      18\n",
       "65469  tt12058584       12          3       29644      18\n",
       "65470  tt12199174       10          3       29645      19\n",
       "65471  tt12199174       10          3       29646      19\n",
       "65472  tt12199174       10          3       29647      19\n",
       "\n",
       "[65473 rows x 5 columns]"
      ]
     },
     "execution_count": 251,
     "metadata": {},
     "output_type": "execute_result"
    }
   ],
   "source": [
    "df_relaciones"
   ]
  },
  {
   "cell_type": "code",
   "execution_count": 252,
   "metadata": {},
   "outputs": [
    {
     "name": "stdout",
     "output_type": "stream",
     "text": [
      "65473 registros insertados\n"
     ]
    }
   ],
   "source": [
    "postres.query_insercion('relaciones', df_relaciones)"
   ]
  }
 ],
 "metadata": {
  "kernelspec": {
   "display_name": "StreanWise",
   "language": "python",
   "name": "python3"
  },
  "language_info": {
   "codemirror_mode": {
    "name": "ipython",
    "version": 3
   },
   "file_extension": ".py",
   "mimetype": "text/x-python",
   "name": "python",
   "nbconvert_exporter": "python",
   "pygments_lexer": "ipython3",
   "version": "3.12.8"
  }
 },
 "nbformat": 4,
 "nbformat_minor": 2
}
