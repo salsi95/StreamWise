{
 "cells": [
  {
   "cell_type": "code",
   "execution_count": 27,
   "metadata": {},
   "outputs": [],
   "source": [
    "# Importamos las librerías que necesitamos\n",
    "\n",
    "# Manejo del sistema\n",
    "# -----------------------------------------------------------------------\n",
    "import sys\n",
    "sys.path.append(\"../\")  # Agregamos el directorio principal al sistema de rutas\n",
    "\n",
    "# Barra de progreso\n",
    "# -----------------------------------------------------------------------\n",
    "from tqdm import tqdm\n",
    "\n",
    "# Funciones personalizadas\n",
    "# -----------------------------------------------------------------------\n",
    "from src import sp_imdb as si\n",
    "\n",
    "# Tratamiento de datos\n",
    "# -----------------------------------------------------------------------\n",
    "import pandas as pd\n",
    "\n",
    "# Conexión a base de datos\n",
    "# -----------------------------------------------------------------------\n",
    "import pymongo\n",
    "\n",
    "# Manejo de advertencias\n",
    "# -----------------------------------------------------------------------\n",
    "import warnings\n"
   ]
  },
  {
   "cell_type": "code",
   "execution_count": 28,
   "metadata": {},
   "outputs": [],
   "source": [
    "# lo primero que tenemos que hacer es conectarnos con Mongo\n",
    "cliente = pymongo.MongoClient()\n",
    "# nos conectamos con una BBDD \n",
    "imdb = cliente['IMDB']\n",
    "peliculas = imdb['Peliculas']"
   ]
  },
  {
   "cell_type": "code",
   "execution_count": 29,
   "metadata": {},
   "outputs": [],
   "source": [
    "df = pd.read_csv(\"../data/api_generos.csv\")"
   ]
  },
  {
   "cell_type": "code",
   "execution_count": 35,
   "metadata": {},
   "outputs": [
    {
     "name": "stderr",
     "output_type": "stream",
     "text": [
      " 66%|██████▌   | 20768/31458 [2:13:15<1:08:35,  2.60it/s] \n"
     ]
    },
    {
     "ename": "InvalidSessionIdException",
     "evalue": "Message: invalid session id\nStacktrace:\n0   chromedriver                        0x0000000104d984dc chromedriver + 4162780\n1   chromedriver                        0x0000000104d90664 chromedriver + 4130404\n2   chromedriver                        0x00000001049e79f8 chromedriver + 293368\n3   chromedriver                        0x0000000104a215ec chromedriver + 529900\n4   chromedriver                        0x0000000104a22930 chromedriver + 534832\n5   chromedriver                        0x0000000104d5de08 chromedriver + 3923464\n6   chromedriver                        0x0000000104d623dc chromedriver + 3941340\n7   chromedriver                        0x0000000104d46038 chromedriver + 3825720\n8   chromedriver                        0x0000000104d62f3c chromedriver + 3944252\n9   chromedriver                        0x0000000104d386f4 chromedriver + 3770100\n10  chromedriver                        0x0000000104d7f980 chromedriver + 4061568\n11  chromedriver                        0x0000000104d7faf8 chromedriver + 4061944\n12  chromedriver                        0x0000000104d902e4 chromedriver + 4129508\n13  libsystem_pthread.dylib             0x00000001819fe034 _pthread_start + 136\n14  libsystem_pthread.dylib             0x00000001819f8e3c thread_start + 8\n",
     "output_type": "error",
     "traceback": [
      "\u001b[0;31m---------------------------------------------------------------------------\u001b[0m",
      "\u001b[0;31mWebDriverException\u001b[0m                        Traceback (most recent call last)",
      "File \u001b[0;32m~/Desktop/Frikeo/StreamWise/notebooks/../src/sp_imdb.py:74\u001b[0m, in \u001b[0;36mobtener_pelis\u001b[0;34m(df_iterable)\u001b[0m\n\u001b[1;32m     73\u001b[0m \u001b[38;5;28;01mtry\u001b[39;00m:\n\u001b[0;32m---> 74\u001b[0m     busqueda_peli \u001b[38;5;241m=\u001b[39m \u001b[43mdriver\u001b[49m\u001b[38;5;241;43m.\u001b[39;49m\u001b[43mfind_element\u001b[49m\u001b[43m(\u001b[49m\u001b[38;5;124;43m'\u001b[39;49m\u001b[38;5;124;43mcss selector\u001b[39;49m\u001b[38;5;124;43m'\u001b[39;49m\u001b[43m,\u001b[49m\u001b[43m \u001b[49m\u001b[38;5;124;43m'\u001b[39;49m\u001b[38;5;124;43m#suggestion-search\u001b[39;49m\u001b[38;5;124;43m'\u001b[39;49m\u001b[43m)\u001b[49m\u001b[38;5;241;43m.\u001b[39;49m\u001b[43msend_keys\u001b[49m\u001b[43m(\u001b[49m\u001b[43mid_peli\u001b[49m\u001b[43m,\u001b[49m\u001b[43m \u001b[49m\u001b[43mKeys\u001b[49m\u001b[38;5;241;43m.\u001b[39;49m\u001b[43mENTER\u001b[49m\u001b[43m)\u001b[49m\n\u001b[1;32m     75\u001b[0m \u001b[38;5;28;01mexcept\u001b[39;00m:\n",
      "File \u001b[0;32m/opt/homebrew/Caskroom/miniconda/base/envs/StreanWise/lib/python3.12/site-packages/selenium/webdriver/remote/webelement.py:301\u001b[0m, in \u001b[0;36mWebElement.send_keys\u001b[0;34m(self, *value)\u001b[0m\n\u001b[1;32m    299\u001b[0m         value \u001b[38;5;241m=\u001b[39m \u001b[38;5;28mtuple\u001b[39m(\u001b[38;5;124m\"\u001b[39m\u001b[38;5;130;01m\\n\u001b[39;00m\u001b[38;5;124m\"\u001b[39m\u001b[38;5;241m.\u001b[39mjoin(remote_files))\n\u001b[0;32m--> 301\u001b[0m \u001b[38;5;28;43mself\u001b[39;49m\u001b[38;5;241;43m.\u001b[39;49m\u001b[43m_execute\u001b[49m\u001b[43m(\u001b[49m\n\u001b[1;32m    302\u001b[0m \u001b[43m    \u001b[49m\u001b[43mCommand\u001b[49m\u001b[38;5;241;43m.\u001b[39;49m\u001b[43mSEND_KEYS_TO_ELEMENT\u001b[49m\u001b[43m,\u001b[49m\u001b[43m \u001b[49m\u001b[43m{\u001b[49m\u001b[38;5;124;43m\"\u001b[39;49m\u001b[38;5;124;43mtext\u001b[39;49m\u001b[38;5;124;43m\"\u001b[39;49m\u001b[43m:\u001b[49m\u001b[43m \u001b[49m\u001b[38;5;124;43m\"\u001b[39;49m\u001b[38;5;124;43m\"\u001b[39;49m\u001b[38;5;241;43m.\u001b[39;49m\u001b[43mjoin\u001b[49m\u001b[43m(\u001b[49m\u001b[43mkeys_to_typing\u001b[49m\u001b[43m(\u001b[49m\u001b[43mvalue\u001b[49m\u001b[43m)\u001b[49m\u001b[43m)\u001b[49m\u001b[43m,\u001b[49m\u001b[43m \u001b[49m\u001b[38;5;124;43m\"\u001b[39;49m\u001b[38;5;124;43mvalue\u001b[39;49m\u001b[38;5;124;43m\"\u001b[39;49m\u001b[43m:\u001b[49m\u001b[43m \u001b[49m\u001b[43mkeys_to_typing\u001b[49m\u001b[43m(\u001b[49m\u001b[43mvalue\u001b[49m\u001b[43m)\u001b[49m\u001b[43m}\u001b[49m\n\u001b[1;32m    303\u001b[0m \u001b[43m\u001b[49m\u001b[43m)\u001b[49m\n",
      "File \u001b[0;32m/opt/homebrew/Caskroom/miniconda/base/envs/StreanWise/lib/python3.12/site-packages/selenium/webdriver/remote/webelement.py:570\u001b[0m, in \u001b[0;36mWebElement._execute\u001b[0;34m(self, command, params)\u001b[0m\n\u001b[1;32m    569\u001b[0m params[\u001b[38;5;124m\"\u001b[39m\u001b[38;5;124mid\u001b[39m\u001b[38;5;124m\"\u001b[39m] \u001b[38;5;241m=\u001b[39m \u001b[38;5;28mself\u001b[39m\u001b[38;5;241m.\u001b[39m_id\n\u001b[0;32m--> 570\u001b[0m \u001b[38;5;28;01mreturn\u001b[39;00m \u001b[38;5;28;43mself\u001b[39;49m\u001b[38;5;241;43m.\u001b[39;49m\u001b[43m_parent\u001b[49m\u001b[38;5;241;43m.\u001b[39;49m\u001b[43mexecute\u001b[49m\u001b[43m(\u001b[49m\u001b[43mcommand\u001b[49m\u001b[43m,\u001b[49m\u001b[43m \u001b[49m\u001b[43mparams\u001b[49m\u001b[43m)\u001b[49m\n",
      "File \u001b[0;32m/opt/homebrew/Caskroom/miniconda/base/envs/StreanWise/lib/python3.12/site-packages/selenium/webdriver/remote/webdriver.py:429\u001b[0m, in \u001b[0;36mWebDriver.execute\u001b[0;34m(self, driver_command, params)\u001b[0m\n\u001b[1;32m    428\u001b[0m \u001b[38;5;28;01mif\u001b[39;00m response:\n\u001b[0;32m--> 429\u001b[0m     \u001b[38;5;28;43mself\u001b[39;49m\u001b[38;5;241;43m.\u001b[39;49m\u001b[43merror_handler\u001b[49m\u001b[38;5;241;43m.\u001b[39;49m\u001b[43mcheck_response\u001b[49m\u001b[43m(\u001b[49m\u001b[43mresponse\u001b[49m\u001b[43m)\u001b[49m\n\u001b[1;32m    430\u001b[0m     response[\u001b[38;5;124m\"\u001b[39m\u001b[38;5;124mvalue\u001b[39m\u001b[38;5;124m\"\u001b[39m] \u001b[38;5;241m=\u001b[39m \u001b[38;5;28mself\u001b[39m\u001b[38;5;241m.\u001b[39m_unwrap_value(response\u001b[38;5;241m.\u001b[39mget(\u001b[38;5;124m\"\u001b[39m\u001b[38;5;124mvalue\u001b[39m\u001b[38;5;124m\"\u001b[39m, \u001b[38;5;28;01mNone\u001b[39;00m))\n",
      "File \u001b[0;32m/opt/homebrew/Caskroom/miniconda/base/envs/StreanWise/lib/python3.12/site-packages/selenium/webdriver/remote/errorhandler.py:232\u001b[0m, in \u001b[0;36mErrorHandler.check_response\u001b[0;34m(self, response)\u001b[0m\n\u001b[1;32m    231\u001b[0m     \u001b[38;5;28;01mraise\u001b[39;00m exception_class(message, screen, stacktrace, alert_text)  \u001b[38;5;66;03m# type: ignore[call-arg]  # mypy is not smart enough here\u001b[39;00m\n\u001b[0;32m--> 232\u001b[0m \u001b[38;5;28;01mraise\u001b[39;00m exception_class(message, screen, stacktrace)\n",
      "\u001b[0;31mWebDriverException\u001b[0m: Message: unknown error: session deleted because of page crash\nfrom unknown error: cannot determine loading status\nfrom tab crashed\n  (Session info: chrome=120.0.6099.234)\nStacktrace:\n0   chromedriver                        0x0000000104d984dc chromedriver + 4162780\n1   chromedriver                        0x0000000104d90664 chromedriver + 4130404\n2   chromedriver                        0x00000001049e79f8 chromedriver + 293368\n3   chromedriver                        0x00000001049d1230 chromedriver + 201264\n4   chromedriver                        0x00000001049d0ac0 chromedriver + 199360\n5   chromedriver                        0x00000001049cfb24 chromedriver + 195364\n6   chromedriver                        0x00000001049cfad0 chromedriver + 195280\n7   chromedriver                        0x00000001049cde3c chromedriver + 187964\n8   chromedriver                        0x00000001049ceb30 chromedriver + 191280\n9   chromedriver                        0x00000001049ddf5c chromedriver + 253788\n10  chromedriver                        0x00000001049f34b4 chromedriver + 341172\n11  chromedriver                        0x00000001049cf1e0 chromedriver + 192992\n12  chromedriver                        0x00000001049f319c chromedriver + 340380\n13  chromedriver                        0x0000000104a6dbd8 chromedriver + 842712\n14  chromedriver                        0x0000000104a216bc chromedriver + 530108\n15  chromedriver                        0x0000000104a22930 chromedriver + 534832\n16  chromedriver                        0x0000000104d5de08 chromedriver + 3923464\n17  chromedriver                        0x0000000104d623dc chromedriver + 3941340\n18  chromedriver                        0x0000000104d46038 chromedriver + 3825720\n19  chromedriver                        0x0000000104d62f3c chromedriver + 3944252\n20  chromedriver                        0x0000000104d386f4 chromedriver + 3770100\n21  chromedriver                        0x0000000104d7f980 chromedriver + 4061568\n22  chromedriver                        0x0000000104d7faf8 chromedriver + 4061944\n23  chromedriver                        0x0000000104d902e4 chromedriver + 4129508\n24  libsystem_pthread.dylib             0x00000001819fe034 _pthread_start + 136\n25  libsystem_pthread.dylib             0x00000001819f8e3c thread_start + 8\n",
      "\nDuring handling of the above exception, another exception occurred:\n",
      "\u001b[0;31mInvalidSessionIdException\u001b[0m                 Traceback (most recent call last)",
      "Cell \u001b[0;32mIn[35], line 1\u001b[0m\n\u001b[0;32m----> 1\u001b[0m \u001b[43msi\u001b[49m\u001b[38;5;241;43m.\u001b[39;49m\u001b[43mobtener_pelis\u001b[49m\u001b[43m(\u001b[49m\u001b[43mdf\u001b[49m\u001b[38;5;241;43m.\u001b[39;49m\u001b[43mloc\u001b[49m\u001b[43m[\u001b[49m\u001b[38;5;241;43m1\u001b[39;49m\u001b[43m:\u001b[49m\u001b[43m:\u001b[49m\u001b[38;5;241;43m10\u001b[39;49m\u001b[43m,\u001b[49m\u001b[38;5;124;43m'\u001b[39;49m\u001b[38;5;124;43mid\u001b[39;49m\u001b[38;5;124;43m'\u001b[39;49m\u001b[43m]\u001b[49m\u001b[43m)\u001b[49m\n",
      "File \u001b[0;32m~/Desktop/Frikeo/StreamWise/notebooks/../src/sp_imdb.py:76\u001b[0m, in \u001b[0;36mobtener_pelis\u001b[0;34m(df_iterable)\u001b[0m\n\u001b[1;32m     74\u001b[0m     busqueda_peli \u001b[38;5;241m=\u001b[39m driver\u001b[38;5;241m.\u001b[39mfind_element(\u001b[38;5;124m'\u001b[39m\u001b[38;5;124mcss selector\u001b[39m\u001b[38;5;124m'\u001b[39m, \u001b[38;5;124m'\u001b[39m\u001b[38;5;124m#suggestion-search\u001b[39m\u001b[38;5;124m'\u001b[39m)\u001b[38;5;241m.\u001b[39msend_keys(id_peli, Keys\u001b[38;5;241m.\u001b[39mENTER)\n\u001b[1;32m     75\u001b[0m \u001b[38;5;28;01mexcept\u001b[39;00m:\n\u001b[0;32m---> 76\u001b[0m     \u001b[43mdriver\u001b[49m\u001b[38;5;241;43m.\u001b[39;49m\u001b[43mclose\u001b[49m\u001b[43m(\u001b[49m\u001b[43m)\u001b[49m\n\u001b[1;32m     77\u001b[0m     driver \u001b[38;5;241m=\u001b[39m webdriver\u001b[38;5;241m.\u001b[39mChrome()\n\u001b[1;32m     78\u001b[0m     driver\u001b[38;5;241m.\u001b[39mmaximize_window()\n",
      "File \u001b[0;32m/opt/homebrew/Caskroom/miniconda/base/envs/StreanWise/lib/python3.12/site-packages/selenium/webdriver/remote/webdriver.py:579\u001b[0m, in \u001b[0;36mWebDriver.close\u001b[0;34m(self)\u001b[0m\n\u001b[1;32m    572\u001b[0m \u001b[38;5;28;01mdef\u001b[39;00m \u001b[38;5;21mclose\u001b[39m(\u001b[38;5;28mself\u001b[39m) \u001b[38;5;241m-\u001b[39m\u001b[38;5;241m>\u001b[39m \u001b[38;5;28;01mNone\u001b[39;00m:\n\u001b[1;32m    573\u001b[0m \u001b[38;5;250m    \u001b[39m\u001b[38;5;124;03m\"\"\"Closes the current window.\u001b[39;00m\n\u001b[1;32m    574\u001b[0m \n\u001b[1;32m    575\u001b[0m \u001b[38;5;124;03m    Example:\u001b[39;00m\n\u001b[1;32m    576\u001b[0m \u001b[38;5;124;03m    --------\u001b[39;00m\n\u001b[1;32m    577\u001b[0m \u001b[38;5;124;03m    >>> driver.close()\u001b[39;00m\n\u001b[1;32m    578\u001b[0m \u001b[38;5;124;03m    \"\"\"\u001b[39;00m\n\u001b[0;32m--> 579\u001b[0m     \u001b[38;5;28;43mself\u001b[39;49m\u001b[38;5;241;43m.\u001b[39;49m\u001b[43mexecute\u001b[49m\u001b[43m(\u001b[49m\u001b[43mCommand\u001b[49m\u001b[38;5;241;43m.\u001b[39;49m\u001b[43mCLOSE\u001b[49m\u001b[43m)\u001b[49m\n",
      "File \u001b[0;32m/opt/homebrew/Caskroom/miniconda/base/envs/StreanWise/lib/python3.12/site-packages/selenium/webdriver/remote/webdriver.py:429\u001b[0m, in \u001b[0;36mWebDriver.execute\u001b[0;34m(self, driver_command, params)\u001b[0m\n\u001b[1;32m    427\u001b[0m response \u001b[38;5;241m=\u001b[39m \u001b[38;5;28mself\u001b[39m\u001b[38;5;241m.\u001b[39mcommand_executor\u001b[38;5;241m.\u001b[39mexecute(driver_command, params)\n\u001b[1;32m    428\u001b[0m \u001b[38;5;28;01mif\u001b[39;00m response:\n\u001b[0;32m--> 429\u001b[0m     \u001b[38;5;28;43mself\u001b[39;49m\u001b[38;5;241;43m.\u001b[39;49m\u001b[43merror_handler\u001b[49m\u001b[38;5;241;43m.\u001b[39;49m\u001b[43mcheck_response\u001b[49m\u001b[43m(\u001b[49m\u001b[43mresponse\u001b[49m\u001b[43m)\u001b[49m\n\u001b[1;32m    430\u001b[0m     response[\u001b[38;5;124m\"\u001b[39m\u001b[38;5;124mvalue\u001b[39m\u001b[38;5;124m\"\u001b[39m] \u001b[38;5;241m=\u001b[39m \u001b[38;5;28mself\u001b[39m\u001b[38;5;241m.\u001b[39m_unwrap_value(response\u001b[38;5;241m.\u001b[39mget(\u001b[38;5;124m\"\u001b[39m\u001b[38;5;124mvalue\u001b[39m\u001b[38;5;124m\"\u001b[39m, \u001b[38;5;28;01mNone\u001b[39;00m))\n\u001b[1;32m    431\u001b[0m     \u001b[38;5;28;01mreturn\u001b[39;00m response\n",
      "File \u001b[0;32m/opt/homebrew/Caskroom/miniconda/base/envs/StreanWise/lib/python3.12/site-packages/selenium/webdriver/remote/errorhandler.py:232\u001b[0m, in \u001b[0;36mErrorHandler.check_response\u001b[0;34m(self, response)\u001b[0m\n\u001b[1;32m    230\u001b[0m         alert_text \u001b[38;5;241m=\u001b[39m value[\u001b[38;5;124m\"\u001b[39m\u001b[38;5;124malert\u001b[39m\u001b[38;5;124m\"\u001b[39m]\u001b[38;5;241m.\u001b[39mget(\u001b[38;5;124m\"\u001b[39m\u001b[38;5;124mtext\u001b[39m\u001b[38;5;124m\"\u001b[39m)\n\u001b[1;32m    231\u001b[0m     \u001b[38;5;28;01mraise\u001b[39;00m exception_class(message, screen, stacktrace, alert_text)  \u001b[38;5;66;03m# type: ignore[call-arg]  # mypy is not smart enough here\u001b[39;00m\n\u001b[0;32m--> 232\u001b[0m \u001b[38;5;28;01mraise\u001b[39;00m exception_class(message, screen, stacktrace)\n",
      "\u001b[0;31mInvalidSessionIdException\u001b[0m: Message: invalid session id\nStacktrace:\n0   chromedriver                        0x0000000104d984dc chromedriver + 4162780\n1   chromedriver                        0x0000000104d90664 chromedriver + 4130404\n2   chromedriver                        0x00000001049e79f8 chromedriver + 293368\n3   chromedriver                        0x0000000104a215ec chromedriver + 529900\n4   chromedriver                        0x0000000104a22930 chromedriver + 534832\n5   chromedriver                        0x0000000104d5de08 chromedriver + 3923464\n6   chromedriver                        0x0000000104d623dc chromedriver + 3941340\n7   chromedriver                        0x0000000104d46038 chromedriver + 3825720\n8   chromedriver                        0x0000000104d62f3c chromedriver + 3944252\n9   chromedriver                        0x0000000104d386f4 chromedriver + 3770100\n10  chromedriver                        0x0000000104d7f980 chromedriver + 4061568\n11  chromedriver                        0x0000000104d7faf8 chromedriver + 4061944\n12  chromedriver                        0x0000000104d902e4 chromedriver + 4129508\n13  libsystem_pthread.dylib             0x00000001819fe034 _pthread_start + 136\n14  libsystem_pthread.dylib             0x00000001819f8e3c thread_start + 8\n"
     ]
    }
   ],
   "source": [
    "si.obtener_pelis(df.loc[1::10,'id'])"
   ]
  },
  {
   "cell_type": "code",
   "execution_count": 46,
   "metadata": {},
   "outputs": [
    {
     "name": "stderr",
     "output_type": "stream",
     "text": [
      "100%|██████████| 19796/19796 [00:00<00:00, 4202796.21it/s]\n"
     ]
    }
   ],
   "source": [
    "si.obtener_actores()"
   ]
  },
  {
   "cell_type": "code",
   "execution_count": 11,
   "metadata": {},
   "outputs": [],
   "source": [
    "pelis_eliminar = list(peliculas.find({\"$and\":[{'puntuacion':float('nan')}, {'duracion':float('nan')}, {'argumento':float('nan')}]}))"
   ]
  },
  {
   "cell_type": "code",
   "execution_count": 9,
   "metadata": {},
   "outputs": [],
   "source": [
    "for peli in pelis_eliminar:\n",
    "    peliculas.delete_one({\"_id\": peli['_id']})"
   ]
  },
  {
   "cell_type": "code",
   "execution_count": 18,
   "metadata": {},
   "outputs": [
    {
     "data": {
      "text/plain": [
       "{'puntuacion': 8.4,\n",
       " 'direccion': ['Anthony Russo', 'Joe Russo'],\n",
       " 'guion': ['Christopher Markus', 'Stephen McFeely', 'Stan Lee'],\n",
       " 'duracion': 181,\n",
       " 'argumento': nan}"
      ]
     },
     "execution_count": 18,
     "metadata": {},
     "output_type": "execute_result"
    }
   ],
   "source": [
    "if nan_docs_ids:\n",
    "    peliculas.delete_many({\"_id\": {\"$in\": nan_docs_ids}})\n",
    "    print(f\"Se eliminaron {len(nan_docs_ids)} documentos con NaN.\")\n",
    "else:\n",
    "    print(\"No se encontraron documentos con NaN.\")"
   ]
  }
 ],
 "metadata": {
  "kernelspec": {
   "display_name": "StreanWise",
   "language": "python",
   "name": "python3"
  },
  "language_info": {
   "codemirror_mode": {
    "name": "ipython",
    "version": 3
   },
   "file_extension": ".py",
   "mimetype": "text/x-python",
   "name": "python",
   "nbconvert_exporter": "python",
   "pygments_lexer": "ipython3",
   "version": "3.12.8"
  }
 },
 "nbformat": 4,
 "nbformat_minor": 2
}
