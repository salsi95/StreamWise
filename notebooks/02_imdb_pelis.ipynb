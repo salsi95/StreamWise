{
 "cells": [
  {
   "cell_type": "code",
   "execution_count": 2,
   "metadata": {},
   "outputs": [],
   "source": [
    "# Para no tener que reiniciar el kernel\n",
    "%load_ext autoreload\n",
    "%autoreload 2\n",
    "import sys  # System-specific parameters and functions\n",
    "sys.path.append(\"../\")  # Adding the parent directory to the system path\n",
    "from tqdm import tqdm\n",
    "from src import sp_api as sa\n",
    "import numpy as np\n",
    "import pandas as pd\n",
    "from selenium import webdriver  # Selenium es una herramienta para automatizar la interacción con navegadores web.\n",
    "from webdriver_manager.chrome import ChromeDriverManager  # ChromeDriverManager gestiona la instalación del controlador de Chrome.\n",
    "from selenium.webdriver.common.keys import Keys  # Keys es útil para simular eventos de teclado en Selenium.\n",
    "from selenium.webdriver.support.ui import Select\n",
    "\n",
    "from deep_translator import GoogleTranslator\n",
    "# Para trabajar con Mongo\n",
    "# ------------------------------------------------------------------------------\n",
    "import pymongo"
   ]
  },
  {
   "cell_type": "code",
   "execution_count": 3,
   "metadata": {},
   "outputs": [],
   "source": [
    "# lo primero que tenemos que hacer es conectarnos con Mongo\n",
    "cliente = pymongo.MongoClient()\n",
    "# nos conectamos con una BBDD \n",
    "imdb = cliente['IMDB']\n",
    "peliculas = imdb['Peliculas']"
   ]
  },
  {
   "cell_type": "code",
   "execution_count": 4,
   "metadata": {},
   "outputs": [],
   "source": [
    "df = pd.read_csv(\"../data/api_generos.csv\")"
   ]
  },
  {
   "cell_type": "code",
   "execution_count": 21,
   "metadata": {},
   "outputs": [
    {
     "name": "stderr",
     "output_type": "stream",
     "text": [
      " 30%|███       | 9482/31458 [1:51:02<4:17:20,  1.42it/s] \n"
     ]
    },
    {
     "ename": "NoSuchWindowException",
     "evalue": "Message: no such window: target window already closed\nfrom unknown error: web view not found\n  (Session info: chrome=120.0.6099.234)\nStacktrace:\n0   chromedriver                        0x00000001011b84dc chromedriver + 4162780\n1   chromedriver                        0x00000001011b0664 chromedriver + 4130404\n2   chromedriver                        0x0000000100e07bc0 chromedriver + 293824\n3   chromedriver                        0x0000000100de06c0 chromedriver + 132800\n4   chromedriver                        0x0000000100e7925c chromedriver + 758364\n5   chromedriver                        0x0000000100e7eb70 chromedriver + 781168\n6   chromedriver                        0x0000000100e416bc chromedriver + 530108\n7   chromedriver                        0x0000000100e42930 chromedriver + 534832\n8   chromedriver                        0x000000010117de08 chromedriver + 3923464\n9   chromedriver                        0x00000001011823dc chromedriver + 3941340\n10  chromedriver                        0x0000000101166038 chromedriver + 3825720\n11  chromedriver                        0x0000000101182f3c chromedriver + 3944252\n12  chromedriver                        0x00000001011586f4 chromedriver + 3770100\n13  chromedriver                        0x000000010119f980 chromedriver + 4061568\n14  chromedriver                        0x000000010119faf8 chromedriver + 4061944\n15  chromedriver                        0x00000001011b02e4 chromedriver + 4129508\n16  libsystem_pthread.dylib             0x00000001819fe034 _pthread_start + 136\n17  libsystem_pthread.dylib             0x00000001819f8e3c thread_start + 8\n",
     "output_type": "error",
     "traceback": [
      "\u001b[0;31m---------------------------------------------------------------------------\u001b[0m",
      "\u001b[0;31mNoSuchWindowException\u001b[0m                     Traceback (most recent call last)",
      "Cell \u001b[0;32mIn[21], line 27\u001b[0m\n\u001b[1;32m     26\u001b[0m \u001b[38;5;28;01mtry\u001b[39;00m:\n\u001b[0;32m---> 27\u001b[0m     busqueda_peli \u001b[38;5;241m=\u001b[39m \u001b[43mdriver\u001b[49m\u001b[38;5;241;43m.\u001b[39;49m\u001b[43mfind_element\u001b[49m\u001b[43m(\u001b[49m\u001b[38;5;124;43m'\u001b[39;49m\u001b[38;5;124;43mcss selector\u001b[39;49m\u001b[38;5;124;43m'\u001b[39;49m\u001b[43m,\u001b[49m\u001b[43m \u001b[49m\u001b[38;5;124;43m'\u001b[39;49m\u001b[38;5;124;43m#suggestion-search\u001b[39;49m\u001b[38;5;124;43m'\u001b[39;49m\u001b[43m)\u001b[49m\u001b[38;5;241m.\u001b[39msend_keys(id_peli, Keys\u001b[38;5;241m.\u001b[39mENTER)\n\u001b[1;32m     28\u001b[0m \u001b[38;5;28;01mexcept\u001b[39;00m:\n",
      "File \u001b[0;32m/opt/homebrew/Caskroom/miniconda/base/envs/StreanWise/lib/python3.12/site-packages/selenium/webdriver/remote/webdriver.py:888\u001b[0m, in \u001b[0;36mWebDriver.find_element\u001b[0;34m(self, by, value)\u001b[0m\n\u001b[1;32m    886\u001b[0m     \u001b[38;5;28;01mreturn\u001b[39;00m elements[\u001b[38;5;241m0\u001b[39m]\n\u001b[0;32m--> 888\u001b[0m \u001b[38;5;28;01mreturn\u001b[39;00m \u001b[38;5;28;43mself\u001b[39;49m\u001b[38;5;241;43m.\u001b[39;49m\u001b[43mexecute\u001b[49m\u001b[43m(\u001b[49m\u001b[43mCommand\u001b[49m\u001b[38;5;241;43m.\u001b[39;49m\u001b[43mFIND_ELEMENT\u001b[49m\u001b[43m,\u001b[49m\u001b[43m \u001b[49m\u001b[43m{\u001b[49m\u001b[38;5;124;43m\"\u001b[39;49m\u001b[38;5;124;43musing\u001b[39;49m\u001b[38;5;124;43m\"\u001b[39;49m\u001b[43m:\u001b[49m\u001b[43m \u001b[49m\u001b[43mby\u001b[49m\u001b[43m,\u001b[49m\u001b[43m \u001b[49m\u001b[38;5;124;43m\"\u001b[39;49m\u001b[38;5;124;43mvalue\u001b[39;49m\u001b[38;5;124;43m\"\u001b[39;49m\u001b[43m:\u001b[49m\u001b[43m \u001b[49m\u001b[43mvalue\u001b[49m\u001b[43m}\u001b[49m\u001b[43m)\u001b[49m[\u001b[38;5;124m\"\u001b[39m\u001b[38;5;124mvalue\u001b[39m\u001b[38;5;124m\"\u001b[39m]\n",
      "File \u001b[0;32m/opt/homebrew/Caskroom/miniconda/base/envs/StreanWise/lib/python3.12/site-packages/selenium/webdriver/remote/webdriver.py:429\u001b[0m, in \u001b[0;36mWebDriver.execute\u001b[0;34m(self, driver_command, params)\u001b[0m\n\u001b[1;32m    428\u001b[0m \u001b[38;5;28;01mif\u001b[39;00m response:\n\u001b[0;32m--> 429\u001b[0m     \u001b[38;5;28;43mself\u001b[39;49m\u001b[38;5;241;43m.\u001b[39;49m\u001b[43merror_handler\u001b[49m\u001b[38;5;241;43m.\u001b[39;49m\u001b[43mcheck_response\u001b[49m\u001b[43m(\u001b[49m\u001b[43mresponse\u001b[49m\u001b[43m)\u001b[49m\n\u001b[1;32m    430\u001b[0m     response[\u001b[38;5;124m\"\u001b[39m\u001b[38;5;124mvalue\u001b[39m\u001b[38;5;124m\"\u001b[39m] \u001b[38;5;241m=\u001b[39m \u001b[38;5;28mself\u001b[39m\u001b[38;5;241m.\u001b[39m_unwrap_value(response\u001b[38;5;241m.\u001b[39mget(\u001b[38;5;124m\"\u001b[39m\u001b[38;5;124mvalue\u001b[39m\u001b[38;5;124m\"\u001b[39m, \u001b[38;5;28;01mNone\u001b[39;00m))\n",
      "File \u001b[0;32m/opt/homebrew/Caskroom/miniconda/base/envs/StreanWise/lib/python3.12/site-packages/selenium/webdriver/remote/errorhandler.py:232\u001b[0m, in \u001b[0;36mErrorHandler.check_response\u001b[0;34m(self, response)\u001b[0m\n\u001b[1;32m    231\u001b[0m     \u001b[38;5;28;01mraise\u001b[39;00m exception_class(message, screen, stacktrace, alert_text)  \u001b[38;5;66;03m# type: ignore[call-arg]  # mypy is not smart enough here\u001b[39;00m\n\u001b[0;32m--> 232\u001b[0m \u001b[38;5;28;01mraise\u001b[39;00m exception_class(message, screen, stacktrace)\n",
      "\u001b[0;31mNoSuchWindowException\u001b[0m: Message: no such window: target window already closed\nfrom unknown error: web view not found\n  (Session info: chrome=120.0.6099.234)\nStacktrace:\n0   chromedriver                        0x00000001011b84dc chromedriver + 4162780\n1   chromedriver                        0x00000001011b0664 chromedriver + 4130404\n2   chromedriver                        0x0000000100e07bc0 chromedriver + 293824\n3   chromedriver                        0x0000000100de06c0 chromedriver + 132800\n4   chromedriver                        0x0000000100e7925c chromedriver + 758364\n5   chromedriver                        0x0000000100e8d294 chromedriver + 840340\n6   chromedriver                        0x0000000100e416bc chromedriver + 530108\n7   chromedriver                        0x0000000100e42930 chromedriver + 534832\n8   chromedriver                        0x000000010117de08 chromedriver + 3923464\n9   chromedriver                        0x00000001011823dc chromedriver + 3941340\n10  chromedriver                        0x0000000101166038 chromedriver + 3825720\n11  chromedriver                        0x0000000101182f3c chromedriver + 3944252\n12  chromedriver                        0x00000001011586f4 chromedriver + 3770100\n13  chromedriver                        0x000000010119f980 chromedriver + 4061568\n14  chromedriver                        0x000000010119faf8 chromedriver + 4061944\n15  chromedriver                        0x00000001011b02e4 chromedriver + 4129508\n16  libsystem_pthread.dylib             0x00000001819fe034 _pthread_start + 136\n17  libsystem_pthread.dylib             0x00000001819f8e3c thread_start + 8\n",
      "\nDuring handling of the above exception, another exception occurred:\n",
      "\u001b[0;31mNoSuchWindowException\u001b[0m                     Traceback (most recent call last)",
      "Cell \u001b[0;32mIn[21], line 29\u001b[0m\n\u001b[1;32m     27\u001b[0m     busqueda_peli \u001b[38;5;241m=\u001b[39m driver\u001b[38;5;241m.\u001b[39mfind_element(\u001b[38;5;124m'\u001b[39m\u001b[38;5;124mcss selector\u001b[39m\u001b[38;5;124m'\u001b[39m, \u001b[38;5;124m'\u001b[39m\u001b[38;5;124m#suggestion-search\u001b[39m\u001b[38;5;124m'\u001b[39m)\u001b[38;5;241m.\u001b[39msend_keys(id_peli, Keys\u001b[38;5;241m.\u001b[39mENTER)\n\u001b[1;32m     28\u001b[0m \u001b[38;5;28;01mexcept\u001b[39;00m:\n\u001b[0;32m---> 29\u001b[0m     \u001b[43mdriver\u001b[49m\u001b[38;5;241;43m.\u001b[39;49m\u001b[43mclose\u001b[49m\u001b[43m(\u001b[49m\u001b[43m)\u001b[49m\n\u001b[1;32m     30\u001b[0m     \u001b[38;5;66;03m#Abrimos el Chrome\u001b[39;00m\n\u001b[1;32m     31\u001b[0m     driver \u001b[38;5;241m=\u001b[39m webdriver\u001b[38;5;241m.\u001b[39mChrome()\n",
      "File \u001b[0;32m/opt/homebrew/Caskroom/miniconda/base/envs/StreanWise/lib/python3.12/site-packages/selenium/webdriver/remote/webdriver.py:579\u001b[0m, in \u001b[0;36mWebDriver.close\u001b[0;34m(self)\u001b[0m\n\u001b[1;32m    572\u001b[0m \u001b[38;5;28;01mdef\u001b[39;00m \u001b[38;5;21mclose\u001b[39m(\u001b[38;5;28mself\u001b[39m) \u001b[38;5;241m-\u001b[39m\u001b[38;5;241m>\u001b[39m \u001b[38;5;28;01mNone\u001b[39;00m:\n\u001b[1;32m    573\u001b[0m \u001b[38;5;250m    \u001b[39m\u001b[38;5;124;03m\"\"\"Closes the current window.\u001b[39;00m\n\u001b[1;32m    574\u001b[0m \n\u001b[1;32m    575\u001b[0m \u001b[38;5;124;03m    Example:\u001b[39;00m\n\u001b[1;32m    576\u001b[0m \u001b[38;5;124;03m    --------\u001b[39;00m\n\u001b[1;32m    577\u001b[0m \u001b[38;5;124;03m    >>> driver.close()\u001b[39;00m\n\u001b[1;32m    578\u001b[0m \u001b[38;5;124;03m    \"\"\"\u001b[39;00m\n\u001b[0;32m--> 579\u001b[0m     \u001b[38;5;28;43mself\u001b[39;49m\u001b[38;5;241;43m.\u001b[39;49m\u001b[43mexecute\u001b[49m\u001b[43m(\u001b[49m\u001b[43mCommand\u001b[49m\u001b[38;5;241;43m.\u001b[39;49m\u001b[43mCLOSE\u001b[49m\u001b[43m)\u001b[49m\n",
      "File \u001b[0;32m/opt/homebrew/Caskroom/miniconda/base/envs/StreanWise/lib/python3.12/site-packages/selenium/webdriver/remote/webdriver.py:429\u001b[0m, in \u001b[0;36mWebDriver.execute\u001b[0;34m(self, driver_command, params)\u001b[0m\n\u001b[1;32m    427\u001b[0m response \u001b[38;5;241m=\u001b[39m \u001b[38;5;28mself\u001b[39m\u001b[38;5;241m.\u001b[39mcommand_executor\u001b[38;5;241m.\u001b[39mexecute(driver_command, params)\n\u001b[1;32m    428\u001b[0m \u001b[38;5;28;01mif\u001b[39;00m response:\n\u001b[0;32m--> 429\u001b[0m     \u001b[38;5;28;43mself\u001b[39;49m\u001b[38;5;241;43m.\u001b[39;49m\u001b[43merror_handler\u001b[49m\u001b[38;5;241;43m.\u001b[39;49m\u001b[43mcheck_response\u001b[49m\u001b[43m(\u001b[49m\u001b[43mresponse\u001b[49m\u001b[43m)\u001b[49m\n\u001b[1;32m    430\u001b[0m     response[\u001b[38;5;124m\"\u001b[39m\u001b[38;5;124mvalue\u001b[39m\u001b[38;5;124m\"\u001b[39m] \u001b[38;5;241m=\u001b[39m \u001b[38;5;28mself\u001b[39m\u001b[38;5;241m.\u001b[39m_unwrap_value(response\u001b[38;5;241m.\u001b[39mget(\u001b[38;5;124m\"\u001b[39m\u001b[38;5;124mvalue\u001b[39m\u001b[38;5;124m\"\u001b[39m, \u001b[38;5;28;01mNone\u001b[39;00m))\n\u001b[1;32m    431\u001b[0m     \u001b[38;5;28;01mreturn\u001b[39;00m response\n",
      "File \u001b[0;32m/opt/homebrew/Caskroom/miniconda/base/envs/StreanWise/lib/python3.12/site-packages/selenium/webdriver/remote/errorhandler.py:232\u001b[0m, in \u001b[0;36mErrorHandler.check_response\u001b[0;34m(self, response)\u001b[0m\n\u001b[1;32m    230\u001b[0m         alert_text \u001b[38;5;241m=\u001b[39m value[\u001b[38;5;124m\"\u001b[39m\u001b[38;5;124malert\u001b[39m\u001b[38;5;124m\"\u001b[39m]\u001b[38;5;241m.\u001b[39mget(\u001b[38;5;124m\"\u001b[39m\u001b[38;5;124mtext\u001b[39m\u001b[38;5;124m\"\u001b[39m)\n\u001b[1;32m    231\u001b[0m     \u001b[38;5;28;01mraise\u001b[39;00m exception_class(message, screen, stacktrace, alert_text)  \u001b[38;5;66;03m# type: ignore[call-arg]  # mypy is not smart enough here\u001b[39;00m\n\u001b[0;32m--> 232\u001b[0m \u001b[38;5;28;01mraise\u001b[39;00m exception_class(message, screen, stacktrace)\n",
      "\u001b[0;31mNoSuchWindowException\u001b[0m: Message: no such window: target window already closed\nfrom unknown error: web view not found\n  (Session info: chrome=120.0.6099.234)\nStacktrace:\n0   chromedriver                        0x00000001011b84dc chromedriver + 4162780\n1   chromedriver                        0x00000001011b0664 chromedriver + 4130404\n2   chromedriver                        0x0000000100e07bc0 chromedriver + 293824\n3   chromedriver                        0x0000000100de06c0 chromedriver + 132800\n4   chromedriver                        0x0000000100e7925c chromedriver + 758364\n5   chromedriver                        0x0000000100e7eb70 chromedriver + 781168\n6   chromedriver                        0x0000000100e416bc chromedriver + 530108\n7   chromedriver                        0x0000000100e42930 chromedriver + 534832\n8   chromedriver                        0x000000010117de08 chromedriver + 3923464\n9   chromedriver                        0x00000001011823dc chromedriver + 3941340\n10  chromedriver                        0x0000000101166038 chromedriver + 3825720\n11  chromedriver                        0x0000000101182f3c chromedriver + 3944252\n12  chromedriver                        0x00000001011586f4 chromedriver + 3770100\n13  chromedriver                        0x000000010119f980 chromedriver + 4061568\n14  chromedriver                        0x000000010119faf8 chromedriver + 4061944\n15  chromedriver                        0x00000001011b02e4 chromedriver + 4129508\n16  libsystem_pthread.dylib             0x00000001819fe034 _pthread_start + 136\n17  libsystem_pthread.dylib             0x00000001819f8e3c thread_start + 8\n"
     ]
    }
   ],
   "source": [
    "#Abrimos el Chrome\n",
    "driver = webdriver.Chrome()\n",
    "\n",
    "# Maximizar la ventana del navegador\n",
    "driver.maximize_window()\n",
    "\n",
    "lista_info_pelis_final = []\n",
    "\n",
    "# Navegar a la página web de IMDB \n",
    "driver.get(\"https://www.imdb.com\")\n",
    "\n",
    "#Introducimos id_peli y se busca\n",
    "for id_peli in tqdm(df.loc[1::10,'id']): #para sacar el 10% de las peliculas\n",
    "    if peliculas.find_one({'id_IMDB': id_peli}):\n",
    "        continue\n",
    "    dicc = {}\n",
    "    dicc['id_IMDB'] = id_peli\n",
    "    #Quitamos lo de la cuenta\n",
    "    try:\n",
    "        cuenta=driver.find_element('css selector','#imdbHeader > div.ipc-page-content-container.ipc-page-content-container--center.navbar__inner > div.nav__userMenu.navbar__user.sc-jfTVlA.esWGB > div > div > div > div > div.sc-cOxWqc.bNDQpU > button > svg').click()\n",
    "        #id_peli='tt0075259' #Ejemplo, luego habrá que hacer bucles for :( \n",
    "\n",
    "    except:\n",
    "        pass\n",
    "    \n",
    "    try:\n",
    "        busqueda_peli = driver.find_element('css selector', '#suggestion-search').send_keys(id_peli, Keys.ENTER)\n",
    "    except:\n",
    "        driver.close()\n",
    "        #Abrimos el Chrome\n",
    "        driver = webdriver.Chrome()\n",
    "\n",
    "        # Maximizar la ventana del navegador\n",
    "        driver.maximize_window()\n",
    "\n",
    "        lista_info_pelis_final = []\n",
    "\n",
    "        # Navegar a la página web de IMDB \n",
    "        driver.get(\"https://www.imdb.com\")\n",
    "        busqueda_peli = driver.find_element('css selector', '#suggestion-search').send_keys(id_peli, Keys.ENTER)\n",
    "    try:\n",
    "        dicc['puntuacion'] = float(driver.find_element('css selector','#__next > main > div > section.ipc-page-background.ipc-page-background--base.sc-75c84411-0.icfMdl > section > div:nth-child(5) > section > section > div.sc-9a2a0028-3.bwWOiy > div.sc-3a4309f8-0.jJkxPn.sc-70a366cc-1.kUfGfN > div > div:nth-child(1) > a > span > div > div.sc-d541859f-0.hNIoIx > div.sc-d541859f-2.kxphVf > span.sc-d541859f-1.imUuxf').text.replace(\",\",\".\"))\n",
    "                                                                       \n",
    "    except:\n",
    "        dicc['puntuacion'] = np.nan\n",
    "    #driver.implicitly_wait(2)\n",
    "    directores = []\n",
    "    guionistas = []\n",
    "\n",
    "    for i in range(1,5):\n",
    "        try:\n",
    "\n",
    "            directores.append(driver.find_element(\"xpath\", f'//*[@id=\"__next\"]/main/div/section[1]/section/div[3]/section/section/div[3]/div[2]/div[1]/section/div[2]/div/ul/li[1]/div/ul/li[{i}]/a').text)\n",
    "        except:                                              \n",
    "            pass\n",
    "\n",
    "        try:\n",
    "            guionistas.append(driver.find_element(\"xpath\", f'//*[@id=\"__next\"]/main/div/section[1]/section/div[3]/section/section/div[3]/div[2]/div[1]/section/div[2]/div/ul/li[2]/div/ul/li[{i}]/a').text)\n",
    "        except:\n",
    "            pass\n",
    "\n",
    "        dicc['direccion'] = directores\n",
    "\n",
    "        dicc['guion'] = guionistas\n",
    "\n",
    "    try:\n",
    "        dicc['duracion'] = driver.find_element('css selector','#__next > main > div > section.ipc-page-background.ipc-page-background--base.sc-75c84411-0.icfMdl > section > div:nth-child(5) > section > section > div.sc-9a2a0028-3.bwWOiy > div.sc-70a366cc-0.bxYZmb > ul > li:nth-child(3)').text.replace('h','').replace('min','').split()\n",
    "        if len(dicc['duracion']) == 1:                         \n",
    "            try:\n",
    "                dicc['duracion'] = int(dicc['duracion'][0])\n",
    "            except:\n",
    "                dicc['duracion'] = np.nan\n",
    "        else:\n",
    "            try:\n",
    "                dicc['duracion'] = int(dicc['duracion'][0])*60 + int(dicc['duracion'][1])\n",
    "            except:\n",
    "                dicc['duracion'] = np.nan\n",
    "    except:\n",
    "        \n",
    "        try:\n",
    "            dicc['duracion']  =driver.find_element('css selector','#__next > main > div > section.ipc-page-background.ipc-page-background--base.sc-75c84411-0.icfMdl > section > div:nth-child(5) > section > section > div.sc-9a2a0028-3.bwWOiy > div.sc-70a366cc-0.bxYZmb > ul > li:nth-child(2)').text.replace('h','').replace('min','').split()\n",
    "            if len(dicc['duracion']) == 1:\n",
    "                try:\n",
    "                    dicc['duracion'] = int(dicc['duracion'][0])\n",
    "                except:\n",
    "                    dicc['duracion'] = np.nan\n",
    "            else:\n",
    "                try:\n",
    "                    dicc['duracion'] = int(dicc['duracion'][0])*60 + int(dicc['duracion'][1])\n",
    "                except:\n",
    "                    dicc['duracion'] = np.nan\n",
    "        except:\n",
    "            dicc['duracion'] = np.nan\n",
    "    \n",
    "    \n",
    "    \n",
    "    try:\n",
    "        dicc['argumento'] = driver.find_element('xpath','//*[@id=\"__next\"]/main/div/section[1]/section/div[3]/section/section/div[3]/div[2]/div[1]/section/p/span[3]').text\n",
    "                                                         \n",
    "        dicc['argumento'] = GoogleTranslator(source='auto', target='en').translate(dicc['argumento'])\n",
    "        if dicc['argumento'] == '':\n",
    "            dicc['argumento'] = np.nan\n",
    "    except:\n",
    "        dicc['argumento'] = np.nan\n",
    "        # Insertar el documento\n",
    "    peliculas.insert_one(dicc)\n",
    "driver.close()"
   ]
  },
  {
   "cell_type": "code",
   "execution_count": 46,
   "metadata": {},
   "outputs": [
    {
     "name": "stderr",
     "output_type": "stream",
     "text": [
      "100%|██████████| 19796/19796 [00:00<00:00, 4202796.21it/s]\n"
     ]
    }
   ],
   "source": [
    "driver = webdriver.Chrome()\n",
    "\n",
    "driver.maximize_window()\n",
    "\n",
    "driver.get(\"https://www.imdb.com/\")\n",
    "\n",
    "for peli in tqdm(list(peliculas.find())):\n",
    "    if 'actores' in peli.keys():\n",
    "        continue\n",
    "    \n",
    "    try:\n",
    "        driver.find_element(\"css selector\", \"#suggestion-search\").send_keys(peli['id_IMDB'], Keys.ENTER)\n",
    "    except:\n",
    "        driver.close()\n",
    "        #Abrimos el Chrome\n",
    "        driver = webdriver.Chrome()\n",
    "\n",
    "        # Maximizar la ventana del navegador\n",
    "        driver.maximize_window()\n",
    "\n",
    "        # Navegar a la página web de IMDB \n",
    "        driver.get(\"https://www.imdb.com\")\n",
    "        driver.find_element(\"css selector\", \"#suggestion-search\").send_keys(peli['id_IMDB'], Keys.ENTER)\n",
    "\n",
    "    lista_actores = []\n",
    "    for i in range(1, 11):\n",
    "        try:\n",
    "            lista_actores.append(driver.find_element(\"css selector\", f\"#__next > main > div > section.ipc-page-background.ipc-page-background--base.sc-afa4bed1-0.iMxoKo > div > section > div > div.sc-c0933c3e-1.fQDAuW.ipc-page-grid__item.ipc-page-grid__item--span-2 > section.ipc-page-section.ipc-page-section--base.sc-cd7dc4b7-0.ycheS.title-cast.title-cast--movie.celwidget > div.ipc-shoveler.ipc-shoveler--base.ipc-shoveler--page0.title-cast__grid > div.ipc-sub-grid.ipc-sub-grid--page-span-2.ipc-sub-grid--wraps-at-above-l.ipc-shoveler__grid > div:nth-child({i}) > div.sc-cd7dc4b7-7.vCane > a\").text)\n",
    "                                                                       #__next > main > div > section.ipc-page-background.ipc-page-background--base.sc-afa4bed1-0.iMxoKo > div > section > div > div.sc-c0933c3e-1.fQDAuW.ipc-page-grid__item.ipc-page-grid__item--span-2 > section.ipc-page-section.ipc-page-section--base.sc-cd7dc4b7-0.ycheS.title-cast.title-cast--movie.celwidget > div.ipc-shoveler.ipc-shoveler--base.ipc-shoveler--page0.title-cast__grid > div.ipc-sub-grid.ipc-sub-grid--page-span-2.ipc-sub-grid--wraps-at-above-l.ipc-shoveler__grid > div:nth-child({i}) > div.sc-cd7dc4b7-7.vCane > a\n",
    "        except:\n",
    "            pass\n",
    "\n",
    "    peliculas.update_one({'id_IMDB':peli['id_IMDB']},{'$set': {'actores': lista_actores}})\n",
    "\n",
    "\n",
    "driver.close()\n"
   ]
  },
  {
   "cell_type": "code",
   "execution_count": 11,
   "metadata": {},
   "outputs": [],
   "source": [
    "pelis_eliminar = list(peliculas.find({\"$and\":[{'puntuacion':float('nan')}, {'duracion':float('nan')}, {'argumento':float('nan')}]}))"
   ]
  },
  {
   "cell_type": "code",
   "execution_count": 12,
   "metadata": {},
   "outputs": [
    {
     "data": {
      "text/plain": [
       "[]"
      ]
     },
     "execution_count": 12,
     "metadata": {},
     "output_type": "execute_result"
    }
   ],
   "source": [
    "pelis_eliminar"
   ]
  },
  {
   "cell_type": "code",
   "execution_count": 9,
   "metadata": {},
   "outputs": [],
   "source": [
    "for peli in pelis_eliminar:\n",
    "    peliculas.delete_one({\"_id\": peli['_id']})"
   ]
  },
  {
   "cell_type": "code",
   "execution_count": 18,
   "metadata": {},
   "outputs": [
    {
     "data": {
      "text/plain": [
       "{'puntuacion': 8.4,\n",
       " 'direccion': ['Anthony Russo', 'Joe Russo'],\n",
       " 'guion': ['Christopher Markus', 'Stephen McFeely', 'Stan Lee'],\n",
       " 'duracion': 181,\n",
       " 'argumento': nan}"
      ]
     },
     "execution_count": 18,
     "metadata": {},
     "output_type": "execute_result"
    }
   ],
   "source": [
    "if nan_docs_ids:\n",
    "    peliculas.delete_many({\"_id\": {\"$in\": nan_docs_ids}})\n",
    "    print(f\"Se eliminaron {len(nan_docs_ids)} documentos con NaN.\")\n",
    "else:\n",
    "    print(\"No se encontraron documentos con NaN.\")"
   ]
  }
 ],
 "metadata": {
  "kernelspec": {
   "display_name": "StreanWise",
   "language": "python",
   "name": "python3"
  },
  "language_info": {
   "codemirror_mode": {
    "name": "ipython",
    "version": 3
   },
   "file_extension": ".py",
   "mimetype": "text/x-python",
   "name": "python",
   "nbconvert_exporter": "python",
   "pygments_lexer": "ipython3",
   "version": "3.12.8"
  }
 },
 "nbformat": 4,
 "nbformat_minor": 2
}
