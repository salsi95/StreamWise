{
 "cells": [
  {
   "cell_type": "code",
   "execution_count": 23,
   "metadata": {},
   "outputs": [
    {
     "name": "stdout",
     "output_type": "stream",
     "text": [
      "The autoreload extension is already loaded. To reload it, use:\n",
      "  %reload_ext autoreload\n"
     ]
    }
   ],
   "source": [
    "# Importamos las librerías que necesitamos\n",
    "\n",
    "# Manejo del sistema\n",
    "# -----------------------------------------------------------------------\n",
    "import sys\n",
    "sys.path.append(\"../\")  # Agregamos el directorio principal al sistema de rutas\n",
    "\n",
    "# Barra de progreso\n",
    "# -----------------------------------------------------------------------\n",
    "from tqdm import tqdm\n",
    "\n",
    "# Funciones personalizadas\n",
    "# -----------------------------------------------------------------------\n",
    "from src import sp_imdb as si\n",
    "\n",
    "# Tratamiento de datos\n",
    "# -----------------------------------------------------------------------\n",
    "import pandas as pd\n",
    "\n",
    "# Conexión a base de datos\n",
    "# -----------------------------------------------------------------------\n",
    "import pymongo\n",
    "\n",
    "# Manejo de advertencias\n",
    "# -----------------------------------------------------------------------\n",
    "import warnings\n"
   ]
  },
  {
   "cell_type": "code",
   "execution_count": 24,
   "metadata": {},
   "outputs": [],
   "source": [
    "# lo primero que tenemos que hacer es conectarnos con Mongo\n",
    "cliente = pymongo.MongoClient()\n",
    "# nos conectamos con una BBDD \n",
    "imdb = cliente['IMDB']\n",
    "peliculas = imdb['Peliculas']"
   ]
  },
  {
   "cell_type": "code",
   "execution_count": 25,
   "metadata": {},
   "outputs": [],
   "source": [
    "df = pd.read_csv(\"../data/api_generos.csv\")"
   ]
  },
  {
   "cell_type": "code",
   "execution_count": 26,
   "metadata": {},
   "outputs": [
    {
     "name": "stderr",
     "output_type": "stream",
     "text": [
      " 36%|███▋      | 11437/31458 [47:21<1:22:53,  4.03it/s] \n"
     ]
    },
    {
     "ename": "NoSuchWindowException",
     "evalue": "Message: no such window: target window already closed\nfrom unknown error: web view not found\n  (Session info: chrome=120.0.6099.234)\nStacktrace:\n0   chromedriver                        0x0000000102d984dc chromedriver + 4162780\n1   chromedriver                        0x0000000102d90664 chromedriver + 4130404\n2   chromedriver                        0x00000001029e7bc0 chromedriver + 293824\n3   chromedriver                        0x00000001029c06c0 chromedriver + 132800\n4   chromedriver                        0x0000000102a5925c chromedriver + 758364\n5   chromedriver                        0x0000000102a5eb70 chromedriver + 781168\n6   chromedriver                        0x0000000102a216bc chromedriver + 530108\n7   chromedriver                        0x0000000102a22930 chromedriver + 534832\n8   chromedriver                        0x0000000102d5de08 chromedriver + 3923464\n9   chromedriver                        0x0000000102d623dc chromedriver + 3941340\n10  chromedriver                        0x0000000102d46038 chromedriver + 3825720\n11  chromedriver                        0x0000000102d62f3c chromedriver + 3944252\n12  chromedriver                        0x0000000102d386f4 chromedriver + 3770100\n13  chromedriver                        0x0000000102d7f980 chromedriver + 4061568\n14  chromedriver                        0x0000000102d7faf8 chromedriver + 4061944\n15  chromedriver                        0x0000000102d902e4 chromedriver + 4129508\n16  libsystem_pthread.dylib             0x00000001819fe034 _pthread_start + 136\n17  libsystem_pthread.dylib             0x00000001819f8e3c thread_start + 8\n",
     "output_type": "error",
     "traceback": [
      "\u001b[0;31m---------------------------------------------------------------------------\u001b[0m",
      "\u001b[0;31mNoSuchWindowException\u001b[0m                     Traceback (most recent call last)",
      "File \u001b[0;32m~/Desktop/Frikeo/StreamWise/notebooks/../src/sp_imdb.py:50\u001b[0m, in \u001b[0;36mobtener_pelis\u001b[0;34m(df_iterable)\u001b[0m\n\u001b[1;32m     39\u001b[0m \u001b[38;5;28;01mdef\u001b[39;00m \u001b[38;5;21mobtener_pelis\u001b[39m(df_iterable):\n\u001b[1;32m     40\u001b[0m \u001b[38;5;250m    \u001b[39m\u001b[38;5;124;03m\"\"\"\u001b[39;00m\n\u001b[1;32m     41\u001b[0m \u001b[38;5;124;03m    Realiza web scraping en IMDb para obtener información detallada de películas a partir de una lista de identificadores.\u001b[39;00m\n\u001b[1;32m     42\u001b[0m \n\u001b[1;32m     43\u001b[0m \u001b[38;5;124;03m    Parámetros:\u001b[39;00m\n\u001b[1;32m     44\u001b[0m \u001b[38;5;124;03m        df_iterable (iterable): Un iterable que contiene los identificadores de IMDb de las películas a buscar.\u001b[39;00m\n\u001b[1;32m     45\u001b[0m \n\u001b[1;32m     46\u001b[0m \u001b[38;5;124;03m    Funcionalidad:\u001b[39;00m\n\u001b[1;32m     47\u001b[0m \u001b[38;5;124;03m        - Abre un navegador Chrome con Selenium.\u001b[39;00m\n\u001b[1;32m     48\u001b[0m \u001b[38;5;124;03m        - Busca cada película en IMDb y extrae información como puntuación, directores, guionistas, duración y argumento.\u001b[39;00m\n\u001b[1;32m     49\u001b[0m \u001b[38;5;124;03m        - Traduce el argumento al inglés si está disponible.\u001b[39;00m\n\u001b[0;32m---> 50\u001b[0m \u001b[38;5;124;03m        - Inserta los datos obtenidos en una base de datos MongoDB.\u001b[39;00m\n\u001b[1;32m     51\u001b[0m \n\u001b[1;32m     52\u001b[0m \u001b[38;5;124;03m    Nota:\u001b[39;00m\n\u001b[1;32m     53\u001b[0m \u001b[38;5;124;03m        - Se omiten las películas que ya existen en la base de datos.\u001b[39;00m\n\u001b[1;32m     54\u001b[0m \u001b[38;5;124;03m        - Si ocurre un error durante la búsqueda, se reinicia el navegador para continuar con las siguientes películas.\u001b[39;00m\n\u001b[1;32m     55\u001b[0m \n\u001b[1;32m     56\u001b[0m \u001b[38;5;124;03m    No retorna ningún valor.\u001b[39;00m\n\u001b[1;32m     57\u001b[0m \u001b[38;5;124;03m    \"\"\"\u001b[39;00m\n\u001b[1;32m     58\u001b[0m     driver \u001b[38;5;241m=\u001b[39m webdriver\u001b[38;5;241m.\u001b[39mChrome()\n",
      "File \u001b[0;32m/opt/homebrew/Caskroom/miniconda/base/envs/StreanWise/lib/python3.12/site-packages/selenium/webdriver/remote/webdriver.py:888\u001b[0m, in \u001b[0;36mWebDriver.find_element\u001b[0;34m(self, by, value)\u001b[0m\n\u001b[1;32m    886\u001b[0m     \u001b[38;5;28;01mreturn\u001b[39;00m elements[\u001b[38;5;241m0\u001b[39m]\n\u001b[0;32m--> 888\u001b[0m \u001b[38;5;28;01mreturn\u001b[39;00m \u001b[38;5;28;43mself\u001b[39;49m\u001b[38;5;241;43m.\u001b[39;49m\u001b[43mexecute\u001b[49m\u001b[43m(\u001b[49m\u001b[43mCommand\u001b[49m\u001b[38;5;241;43m.\u001b[39;49m\u001b[43mFIND_ELEMENT\u001b[49m\u001b[43m,\u001b[49m\u001b[43m \u001b[49m\u001b[43m{\u001b[49m\u001b[38;5;124;43m\"\u001b[39;49m\u001b[38;5;124;43musing\u001b[39;49m\u001b[38;5;124;43m\"\u001b[39;49m\u001b[43m:\u001b[49m\u001b[43m \u001b[49m\u001b[43mby\u001b[49m\u001b[43m,\u001b[49m\u001b[43m \u001b[49m\u001b[38;5;124;43m\"\u001b[39;49m\u001b[38;5;124;43mvalue\u001b[39;49m\u001b[38;5;124;43m\"\u001b[39;49m\u001b[43m:\u001b[49m\u001b[43m \u001b[49m\u001b[43mvalue\u001b[49m\u001b[43m}\u001b[49m\u001b[43m)\u001b[49m[\u001b[38;5;124m\"\u001b[39m\u001b[38;5;124mvalue\u001b[39m\u001b[38;5;124m\"\u001b[39m]\n",
      "File \u001b[0;32m/opt/homebrew/Caskroom/miniconda/base/envs/StreanWise/lib/python3.12/site-packages/selenium/webdriver/remote/webdriver.py:429\u001b[0m, in \u001b[0;36mWebDriver.execute\u001b[0;34m(self, driver_command, params)\u001b[0m\n\u001b[1;32m    428\u001b[0m \u001b[38;5;28;01mif\u001b[39;00m response:\n\u001b[0;32m--> 429\u001b[0m     \u001b[38;5;28;43mself\u001b[39;49m\u001b[38;5;241;43m.\u001b[39;49m\u001b[43merror_handler\u001b[49m\u001b[38;5;241;43m.\u001b[39;49m\u001b[43mcheck_response\u001b[49m\u001b[43m(\u001b[49m\u001b[43mresponse\u001b[49m\u001b[43m)\u001b[49m\n\u001b[1;32m    430\u001b[0m     response[\u001b[38;5;124m\"\u001b[39m\u001b[38;5;124mvalue\u001b[39m\u001b[38;5;124m\"\u001b[39m] \u001b[38;5;241m=\u001b[39m \u001b[38;5;28mself\u001b[39m\u001b[38;5;241m.\u001b[39m_unwrap_value(response\u001b[38;5;241m.\u001b[39mget(\u001b[38;5;124m\"\u001b[39m\u001b[38;5;124mvalue\u001b[39m\u001b[38;5;124m\"\u001b[39m, \u001b[38;5;28;01mNone\u001b[39;00m))\n",
      "File \u001b[0;32m/opt/homebrew/Caskroom/miniconda/base/envs/StreanWise/lib/python3.12/site-packages/selenium/webdriver/remote/errorhandler.py:232\u001b[0m, in \u001b[0;36mErrorHandler.check_response\u001b[0;34m(self, response)\u001b[0m\n\u001b[1;32m    231\u001b[0m     \u001b[38;5;28;01mraise\u001b[39;00m exception_class(message, screen, stacktrace, alert_text)  \u001b[38;5;66;03m# type: ignore[call-arg]  # mypy is not smart enough here\u001b[39;00m\n\u001b[0;32m--> 232\u001b[0m \u001b[38;5;28;01mraise\u001b[39;00m exception_class(message, screen, stacktrace)\n",
      "\u001b[0;31mNoSuchWindowException\u001b[0m: Message: no such window: target window already closed\nfrom unknown error: web view not found\n  (Session info: chrome=120.0.6099.234)\nStacktrace:\n0   chromedriver                        0x0000000102d984dc chromedriver + 4162780\n1   chromedriver                        0x0000000102d90664 chromedriver + 4130404\n2   chromedriver                        0x00000001029e7bc0 chromedriver + 293824\n3   chromedriver                        0x00000001029c06c0 chromedriver + 132800\n4   chromedriver                        0x0000000102a5925c chromedriver + 758364\n5   chromedriver                        0x0000000102a6d294 chromedriver + 840340\n6   chromedriver                        0x0000000102a216bc chromedriver + 530108\n7   chromedriver                        0x0000000102a22930 chromedriver + 534832\n8   chromedriver                        0x0000000102d5de08 chromedriver + 3923464\n9   chromedriver                        0x0000000102d623dc chromedriver + 3941340\n10  chromedriver                        0x0000000102d46038 chromedriver + 3825720\n11  chromedriver                        0x0000000102d62f3c chromedriver + 3944252\n12  chromedriver                        0x0000000102d386f4 chromedriver + 3770100\n13  chromedriver                        0x0000000102d7f980 chromedriver + 4061568\n14  chromedriver                        0x0000000102d7faf8 chromedriver + 4061944\n15  chromedriver                        0x0000000102d902e4 chromedriver + 4129508\n16  libsystem_pthread.dylib             0x00000001819fe034 _pthread_start + 136\n17  libsystem_pthread.dylib             0x00000001819f8e3c thread_start + 8\n",
      "\nDuring handling of the above exception, another exception occurred:\n",
      "\u001b[0;31mNoSuchWindowException\u001b[0m                     Traceback (most recent call last)",
      "Cell \u001b[0;32mIn[26], line 1\u001b[0m\n\u001b[0;32m----> 1\u001b[0m \u001b[43msi\u001b[49m\u001b[38;5;241;43m.\u001b[39;49m\u001b[43mobtener_pelis\u001b[49m\u001b[43m(\u001b[49m\u001b[43mdf\u001b[49m\u001b[38;5;241;43m.\u001b[39;49m\u001b[43mloc\u001b[49m\u001b[43m[\u001b[49m\u001b[38;5;241;43m1\u001b[39;49m\u001b[43m:\u001b[49m\u001b[43m:\u001b[49m\u001b[38;5;241;43m10\u001b[39;49m\u001b[43m,\u001b[49m\u001b[38;5;124;43m'\u001b[39;49m\u001b[38;5;124;43mid\u001b[39;49m\u001b[38;5;124;43m'\u001b[39;49m\u001b[43m]\u001b[49m\u001b[43m)\u001b[49m\n",
      "File \u001b[0;32m~/Desktop/Frikeo/StreamWise/notebooks/../src/sp_imdb.py:52\u001b[0m, in \u001b[0;36mobtener_pelis\u001b[0;34m(df_iterable)\u001b[0m\n\u001b[1;32m     39\u001b[0m \u001b[38;5;28;01mdef\u001b[39;00m \u001b[38;5;21mobtener_pelis\u001b[39m(df_iterable):\n\u001b[1;32m     40\u001b[0m \u001b[38;5;250m    \u001b[39m\u001b[38;5;124;03m\"\"\"\u001b[39;00m\n\u001b[1;32m     41\u001b[0m \u001b[38;5;124;03m    Realiza web scraping en IMDb para obtener información detallada de películas a partir de una lista de identificadores.\u001b[39;00m\n\u001b[1;32m     42\u001b[0m \n\u001b[1;32m     43\u001b[0m \u001b[38;5;124;03m    Parámetros:\u001b[39;00m\n\u001b[1;32m     44\u001b[0m \u001b[38;5;124;03m        df_iterable (iterable): Un iterable que contiene los identificadores de IMDb de las películas a buscar.\u001b[39;00m\n\u001b[1;32m     45\u001b[0m \n\u001b[1;32m     46\u001b[0m \u001b[38;5;124;03m    Funcionalidad:\u001b[39;00m\n\u001b[1;32m     47\u001b[0m \u001b[38;5;124;03m        - Abre un navegador Chrome con Selenium.\u001b[39;00m\n\u001b[1;32m     48\u001b[0m \u001b[38;5;124;03m        - Busca cada película en IMDb y extrae información como puntuación, directores, guionistas, duración y argumento.\u001b[39;00m\n\u001b[1;32m     49\u001b[0m \u001b[38;5;124;03m        - Traduce el argumento al inglés si está disponible.\u001b[39;00m\n\u001b[1;32m     50\u001b[0m \u001b[38;5;124;03m        - Inserta los datos obtenidos en una base de datos MongoDB.\u001b[39;00m\n\u001b[1;32m     51\u001b[0m \n\u001b[0;32m---> 52\u001b[0m \u001b[38;5;124;03m    Nota:\u001b[39;00m\n\u001b[1;32m     53\u001b[0m \u001b[38;5;124;03m        - Se omiten las películas que ya existen en la base de datos.\u001b[39;00m\n\u001b[1;32m     54\u001b[0m \u001b[38;5;124;03m        - Si ocurre un error durante la búsqueda, se reinicia el navegador para continuar con las siguientes películas.\u001b[39;00m\n\u001b[1;32m     55\u001b[0m \n\u001b[1;32m     56\u001b[0m \u001b[38;5;124;03m    No retorna ningún valor.\u001b[39;00m\n\u001b[1;32m     57\u001b[0m \u001b[38;5;124;03m    \"\"\"\u001b[39;00m\n\u001b[1;32m     58\u001b[0m     driver \u001b[38;5;241m=\u001b[39m webdriver\u001b[38;5;241m.\u001b[39mChrome()\n\u001b[1;32m     59\u001b[0m     driver\u001b[38;5;241m.\u001b[39mmaximize_window()\n",
      "File \u001b[0;32m/opt/homebrew/Caskroom/miniconda/base/envs/StreanWise/lib/python3.12/site-packages/selenium/webdriver/remote/webdriver.py:579\u001b[0m, in \u001b[0;36mWebDriver.close\u001b[0;34m(self)\u001b[0m\n\u001b[1;32m    572\u001b[0m \u001b[38;5;28;01mdef\u001b[39;00m \u001b[38;5;21mclose\u001b[39m(\u001b[38;5;28mself\u001b[39m) \u001b[38;5;241m-\u001b[39m\u001b[38;5;241m>\u001b[39m \u001b[38;5;28;01mNone\u001b[39;00m:\n\u001b[1;32m    573\u001b[0m \u001b[38;5;250m    \u001b[39m\u001b[38;5;124;03m\"\"\"Closes the current window.\u001b[39;00m\n\u001b[1;32m    574\u001b[0m \n\u001b[1;32m    575\u001b[0m \u001b[38;5;124;03m    Example:\u001b[39;00m\n\u001b[1;32m    576\u001b[0m \u001b[38;5;124;03m    --------\u001b[39;00m\n\u001b[1;32m    577\u001b[0m \u001b[38;5;124;03m    >>> driver.close()\u001b[39;00m\n\u001b[1;32m    578\u001b[0m \u001b[38;5;124;03m    \"\"\"\u001b[39;00m\n\u001b[0;32m--> 579\u001b[0m     \u001b[38;5;28;43mself\u001b[39;49m\u001b[38;5;241;43m.\u001b[39;49m\u001b[43mexecute\u001b[49m\u001b[43m(\u001b[49m\u001b[43mCommand\u001b[49m\u001b[38;5;241;43m.\u001b[39;49m\u001b[43mCLOSE\u001b[49m\u001b[43m)\u001b[49m\n",
      "File \u001b[0;32m/opt/homebrew/Caskroom/miniconda/base/envs/StreanWise/lib/python3.12/site-packages/selenium/webdriver/remote/webdriver.py:429\u001b[0m, in \u001b[0;36mWebDriver.execute\u001b[0;34m(self, driver_command, params)\u001b[0m\n\u001b[1;32m    427\u001b[0m response \u001b[38;5;241m=\u001b[39m \u001b[38;5;28mself\u001b[39m\u001b[38;5;241m.\u001b[39mcommand_executor\u001b[38;5;241m.\u001b[39mexecute(driver_command, params)\n\u001b[1;32m    428\u001b[0m \u001b[38;5;28;01mif\u001b[39;00m response:\n\u001b[0;32m--> 429\u001b[0m     \u001b[38;5;28;43mself\u001b[39;49m\u001b[38;5;241;43m.\u001b[39;49m\u001b[43merror_handler\u001b[49m\u001b[38;5;241;43m.\u001b[39;49m\u001b[43mcheck_response\u001b[49m\u001b[43m(\u001b[49m\u001b[43mresponse\u001b[49m\u001b[43m)\u001b[49m\n\u001b[1;32m    430\u001b[0m     response[\u001b[38;5;124m\"\u001b[39m\u001b[38;5;124mvalue\u001b[39m\u001b[38;5;124m\"\u001b[39m] \u001b[38;5;241m=\u001b[39m \u001b[38;5;28mself\u001b[39m\u001b[38;5;241m.\u001b[39m_unwrap_value(response\u001b[38;5;241m.\u001b[39mget(\u001b[38;5;124m\"\u001b[39m\u001b[38;5;124mvalue\u001b[39m\u001b[38;5;124m\"\u001b[39m, \u001b[38;5;28;01mNone\u001b[39;00m))\n\u001b[1;32m    431\u001b[0m     \u001b[38;5;28;01mreturn\u001b[39;00m response\n",
      "File \u001b[0;32m/opt/homebrew/Caskroom/miniconda/base/envs/StreanWise/lib/python3.12/site-packages/selenium/webdriver/remote/errorhandler.py:232\u001b[0m, in \u001b[0;36mErrorHandler.check_response\u001b[0;34m(self, response)\u001b[0m\n\u001b[1;32m    230\u001b[0m         alert_text \u001b[38;5;241m=\u001b[39m value[\u001b[38;5;124m\"\u001b[39m\u001b[38;5;124malert\u001b[39m\u001b[38;5;124m\"\u001b[39m]\u001b[38;5;241m.\u001b[39mget(\u001b[38;5;124m\"\u001b[39m\u001b[38;5;124mtext\u001b[39m\u001b[38;5;124m\"\u001b[39m)\n\u001b[1;32m    231\u001b[0m     \u001b[38;5;28;01mraise\u001b[39;00m exception_class(message, screen, stacktrace, alert_text)  \u001b[38;5;66;03m# type: ignore[call-arg]  # mypy is not smart enough here\u001b[39;00m\n\u001b[0;32m--> 232\u001b[0m \u001b[38;5;28;01mraise\u001b[39;00m exception_class(message, screen, stacktrace)\n",
      "\u001b[0;31mNoSuchWindowException\u001b[0m: Message: no such window: target window already closed\nfrom unknown error: web view not found\n  (Session info: chrome=120.0.6099.234)\nStacktrace:\n0   chromedriver                        0x0000000102d984dc chromedriver + 4162780\n1   chromedriver                        0x0000000102d90664 chromedriver + 4130404\n2   chromedriver                        0x00000001029e7bc0 chromedriver + 293824\n3   chromedriver                        0x00000001029c06c0 chromedriver + 132800\n4   chromedriver                        0x0000000102a5925c chromedriver + 758364\n5   chromedriver                        0x0000000102a5eb70 chromedriver + 781168\n6   chromedriver                        0x0000000102a216bc chromedriver + 530108\n7   chromedriver                        0x0000000102a22930 chromedriver + 534832\n8   chromedriver                        0x0000000102d5de08 chromedriver + 3923464\n9   chromedriver                        0x0000000102d623dc chromedriver + 3941340\n10  chromedriver                        0x0000000102d46038 chromedriver + 3825720\n11  chromedriver                        0x0000000102d62f3c chromedriver + 3944252\n12  chromedriver                        0x0000000102d386f4 chromedriver + 3770100\n13  chromedriver                        0x0000000102d7f980 chromedriver + 4061568\n14  chromedriver                        0x0000000102d7faf8 chromedriver + 4061944\n15  chromedriver                        0x0000000102d902e4 chromedriver + 4129508\n16  libsystem_pthread.dylib             0x00000001819fe034 _pthread_start + 136\n17  libsystem_pthread.dylib             0x00000001819f8e3c thread_start + 8\n"
     ]
    }
   ],
   "source": [
    "si.obtener_pelis(df.loc[1::10,'id'])"
   ]
  },
  {
   "cell_type": "code",
   "execution_count": 46,
   "metadata": {},
   "outputs": [
    {
     "name": "stderr",
     "output_type": "stream",
     "text": [
      "100%|██████████| 19796/19796 [00:00<00:00, 4202796.21it/s]\n"
     ]
    }
   ],
   "source": [
    "si.obtener_actores()"
   ]
  },
  {
   "cell_type": "code",
   "execution_count": 11,
   "metadata": {},
   "outputs": [],
   "source": [
    "pelis_eliminar = list(peliculas.find({\"$and\":[{'puntuacion':float('nan')}, {'duracion':float('nan')}, {'argumento':float('nan')}]}))"
   ]
  },
  {
   "cell_type": "code",
   "execution_count": 9,
   "metadata": {},
   "outputs": [],
   "source": [
    "for peli in pelis_eliminar:\n",
    "    peliculas.delete_one({\"_id\": peli['_id']})"
   ]
  },
  {
   "cell_type": "code",
   "execution_count": 18,
   "metadata": {},
   "outputs": [
    {
     "data": {
      "text/plain": [
       "{'puntuacion': 8.4,\n",
       " 'direccion': ['Anthony Russo', 'Joe Russo'],\n",
       " 'guion': ['Christopher Markus', 'Stephen McFeely', 'Stan Lee'],\n",
       " 'duracion': 181,\n",
       " 'argumento': nan}"
      ]
     },
     "execution_count": 18,
     "metadata": {},
     "output_type": "execute_result"
    }
   ],
   "source": [
    "if nan_docs_ids:\n",
    "    peliculas.delete_many({\"_id\": {\"$in\": nan_docs_ids}})\n",
    "    print(f\"Se eliminaron {len(nan_docs_ids)} documentos con NaN.\")\n",
    "else:\n",
    "    print(\"No se encontraron documentos con NaN.\")"
   ]
  }
 ],
 "metadata": {
  "kernelspec": {
   "display_name": "StreanWise",
   "language": "python",
   "name": "python3"
  },
  "language_info": {
   "codemirror_mode": {
    "name": "ipython",
    "version": 3
   },
   "file_extension": ".py",
   "mimetype": "text/x-python",
   "name": "python",
   "nbconvert_exporter": "python",
   "pygments_lexer": "ipython3",
   "version": "3.12.8"
  }
 },
 "nbformat": 4,
 "nbformat_minor": 2
}
