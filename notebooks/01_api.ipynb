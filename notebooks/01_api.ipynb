{
 "cells": [
  {
   "cell_type": "code",
   "execution_count": 82,
   "metadata": {},
   "outputs": [
    {
     "name": "stdout",
     "output_type": "stream",
     "text": [
      "The autoreload extension is already loaded. To reload it, use:\n",
      "  %reload_ext autoreload\n"
     ]
    }
   ],
   "source": [
    "# Para no tener que reiniciar el kernel\n",
    "%load_ext autoreload\n",
    "%autoreload 2\n",
    "import sys  # System-specific parameters and functions\n",
    "sys.path.append(\"../\")  # Adding the parent directory to the system path\n",
    "from tqdm import tqdm\n",
    "from src import sp_api as sa\n",
    "import numpy as np\n",
    "import pandas as pd\n",
    "import pymongo\n",
    "import re"
   ]
  },
  {
   "cell_type": "code",
   "execution_count": 76,
   "metadata": {},
   "outputs": [
    {
     "name": "stdout",
     "output_type": "stream",
     "text": [
      "<Response [200]>\n"
     ]
    }
   ],
   "source": [
    "json_generos = sa.buscar_genero_api()"
   ]
  },
  {
   "cell_type": "code",
   "execution_count": 77,
   "metadata": {},
   "outputs": [],
   "source": [
    "lista_generos = json_generos['results'][1:]"
   ]
  },
  {
   "cell_type": "code",
   "execution_count": null,
   "metadata": {},
   "outputs": [],
   "source": [
    "peliculas = {}\n",
    "for genero in tqdm(lista_generos):\n",
    "    lista_pelis = []\n",
    "    for ano in range(1991,2026):\n",
    "        for pagina in range(120):\n",
    "            try:\n",
    "                lista_pelis.append(sa.buscar_peliculas(genero, ano, pagina))\n",
    "            except:\n",
    "                print(f\"Error en la pagina {pagina} del año {ano} del genero {genero}\")\n",
    "    peliculas[genero] = lista_pelis"
   ]
  },
  {
   "cell_type": "code",
   "execution_count": 41,
   "metadata": {},
   "outputs": [],
   "source": [
    "todas = sa.obtener_datos(peliculas)"
   ]
  },
  {
   "cell_type": "code",
   "execution_count": 43,
   "metadata": {},
   "outputs": [],
   "source": [
    "df = pd.DataFrame(todas)"
   ]
  },
  {
   "cell_type": "code",
   "execution_count": 13,
   "metadata": {},
   "outputs": [],
   "source": [
    "df.rename(columns={'0':'id', '1':'title', '2': 'type', '3': 'genre', '4': 'year'}, inplace=True)\n"
   ]
  },
  {
   "cell_type": "code",
   "execution_count": 78,
   "metadata": {},
   "outputs": [],
   "source": [
    "dicc_generos = sa.buscar_genero(df)\n"
   ]
  },
  {
   "cell_type": "code",
   "execution_count": 15,
   "metadata": {},
   "outputs": [],
   "source": [
    "df['genre'] = df.apply(lambda x: sa.aplicar_generos(x['id'], dicc_generos), axis=1)"
   ]
  },
  {
   "cell_type": "code",
   "execution_count": 16,
   "metadata": {},
   "outputs": [],
   "source": [
    "df = df[df['genre'].notna()]"
   ]
  },
  {
   "cell_type": "code",
   "execution_count": 125,
   "metadata": {},
   "outputs": [],
   "source": [
    "# lo primero que tenemos que hacer es conectarnos con Mongo\n",
    "cliente = pymongo.MongoClient()\n",
    "# nos conectamos con una BBDD \n",
    "imdb = cliente['IMDB']\n",
    "api = imdb['Api']"
   ]
  },
  {
   "cell_type": "code",
   "execution_count": 130,
   "metadata": {},
   "outputs": [
    {
     "name": "stderr",
     "output_type": "stream",
     "text": [
      "100%|██████████| 314575/314575 [01:53<00:00, 2769.04it/s]\n"
     ]
    }
   ],
   "source": [
    "\n",
    "for row in tqdm(range(df.shape[0])):\n",
    "    dicc = {}\n",
    "    dicc['id'] = df.iloc[row,0]\n",
    "    dicc['title'] = df.iloc[row,1]\n",
    "    dicc['type'] = df.iloc[row,2]\n",
    "    dicc['genre'] = df.iloc[row,3]\n",
    "    dicc['year'] = int(df.iloc[row,4])\n",
    "    api.insert_one(dicc)"
   ]
  }
 ],
 "metadata": {
  "kernelspec": {
   "display_name": "StreanWise",
   "language": "python",
   "name": "python3"
  },
  "language_info": {
   "codemirror_mode": {
    "name": "ipython",
    "version": 3
   },
   "file_extension": ".py",
   "mimetype": "text/x-python",
   "name": "python",
   "nbconvert_exporter": "python",
   "pygments_lexer": "ipython3",
   "version": "3.12.8"
  }
 },
 "nbformat": 4,
 "nbformat_minor": 2
}
