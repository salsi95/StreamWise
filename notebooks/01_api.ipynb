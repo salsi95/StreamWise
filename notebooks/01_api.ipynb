{
 "cells": [
  {
   "cell_type": "code",
   "execution_count": 1,
   "metadata": {},
   "outputs": [],
   "source": [
    "# Para no tener que reiniciar el kernel\n",
    "%load_ext autoreload\n",
    "%autoreload 2\n",
    "import sys  # System-specific parameters and functions\n",
    "sys.path.append(\"../\")  # Adding the parent directory to the system path\n",
    "from tqdm import tqdm\n",
    "from src import sp_api as sa\n",
    "import pandas as pd"
   ]
  },
  {
   "cell_type": "code",
   "execution_count": 2,
   "metadata": {},
   "outputs": [
    {
     "name": "stdout",
     "output_type": "stream",
     "text": [
      "<Response [200]>\n"
     ]
    }
   ],
   "source": [
    "json_generos = sa.buscar_genero()"
   ]
  },
  {
   "cell_type": "code",
   "execution_count": 3,
   "metadata": {},
   "outputs": [],
   "source": [
    "lista_generos = json_generos['results'][1:]"
   ]
  },
  {
   "cell_type": "code",
   "execution_count": null,
   "metadata": {},
   "outputs": [],
   "source": [
    "peliculas = {}\n",
    "for genero in tqdm(lista_generos):\n",
    "    lista_pelis = []\n",
    "    for ano in range(1991,2026):\n",
    "        for pagina in range(120):\n",
    "            try:\n",
    "                lista_pelis.append(sa.buscar_peliculas(genero, ano, pagina))\n",
    "            except:\n",
    "                print(f\"Error en la pagina {pagina} del año {ano} del genero {genero}\")\n",
    "    peliculas[genero] = lista_pelis"
   ]
  },
  {
   "cell_type": "code",
   "execution_count": 41,
   "metadata": {},
   "outputs": [],
   "source": [
    "todas = sa.obtener_datos(peliculas)"
   ]
  },
  {
   "cell_type": "code",
   "execution_count": 43,
   "metadata": {},
   "outputs": [],
   "source": [
    "df = pd.DataFrame(todas)"
   ]
  },
  {
   "cell_type": "code",
   "execution_count": 13,
   "metadata": {},
   "outputs": [],
   "source": [
    "df.rename(columns={'0':'id', '1':'title', '2': 'type', '3': 'genre', '4': 'year'}, inplace=True)\n"
   ]
  },
  {
   "cell_type": "code",
   "execution_count": 14,
   "metadata": {},
   "outputs": [],
   "source": [
    "dicc_generos = sa.buscar_genero(df)\n"
   ]
  },
  {
   "cell_type": "code",
   "execution_count": 15,
   "metadata": {},
   "outputs": [],
   "source": [
    "df['genre'] = df.apply(lambda x: sa.aplicar_generos(x['id'], dicc_generos), axis=1)"
   ]
  },
  {
   "cell_type": "code",
   "execution_count": 16,
   "metadata": {},
   "outputs": [],
   "source": [
    "df = df[df['genre'].notna()]"
   ]
  },
  {
   "cell_type": "code",
   "execution_count": 19,
   "metadata": {},
   "outputs": [],
   "source": [
    "df.to_csv(\"../data/api_generos.csv\", index = False)"
   ]
  },
  {
   "cell_type": "code",
   "execution_count": 17,
   "metadata": {},
   "outputs": [
    {
     "data": {
      "text/html": [
       "<div>\n",
       "<style scoped>\n",
       "    .dataframe tbody tr th:only-of-type {\n",
       "        vertical-align: middle;\n",
       "    }\n",
       "\n",
       "    .dataframe tbody tr th {\n",
       "        vertical-align: top;\n",
       "    }\n",
       "\n",
       "    .dataframe thead th {\n",
       "        text-align: right;\n",
       "    }\n",
       "</style>\n",
       "<table border=\"1\" class=\"dataframe\">\n",
       "  <thead>\n",
       "    <tr style=\"text-align: right;\">\n",
       "      <th></th>\n",
       "      <th>id</th>\n",
       "      <th>title</th>\n",
       "      <th>type</th>\n",
       "      <th>genre</th>\n",
       "      <th>year</th>\n",
       "    </tr>\n",
       "  </thead>\n",
       "  <tbody>\n",
       "    <tr>\n",
       "      <th>0</th>\n",
       "      <td>tt0102921</td>\n",
       "      <td>Si da jia zu zhi long hu xiong di</td>\n",
       "      <td>Movie</td>\n",
       "      <td>[Action]</td>\n",
       "      <td>1991</td>\n",
       "    </tr>\n",
       "    <tr>\n",
       "      <th>1</th>\n",
       "      <td>tt0102593</td>\n",
       "      <td>One Good Cop</td>\n",
       "      <td>Movie</td>\n",
       "      <td>[Action]</td>\n",
       "      <td>1991</td>\n",
       "    </tr>\n",
       "    <tr>\n",
       "      <th>2</th>\n",
       "      <td>tt0102844</td>\n",
       "      <td>Saudagar</td>\n",
       "      <td>Movie</td>\n",
       "      <td>[Action]</td>\n",
       "      <td>1991</td>\n",
       "    </tr>\n",
       "    <tr>\n",
       "      <th>3</th>\n",
       "      <td>tt0102814</td>\n",
       "      <td>Sa Tam Chai yue Chow Si Lai</td>\n",
       "      <td>Movie</td>\n",
       "      <td>[Action]</td>\n",
       "      <td>1991</td>\n",
       "    </tr>\n",
       "    <tr>\n",
       "      <th>4</th>\n",
       "      <td>tt0102655</td>\n",
       "      <td>The Perfect Weapon</td>\n",
       "      <td>Movie</td>\n",
       "      <td>[Action]</td>\n",
       "      <td>1991</td>\n",
       "    </tr>\n",
       "    <tr>\n",
       "      <th>...</th>\n",
       "      <td>...</td>\n",
       "      <td>...</td>\n",
       "      <td>...</td>\n",
       "      <td>...</td>\n",
       "      <td>...</td>\n",
       "    </tr>\n",
       "    <tr>\n",
       "      <th>337984</th>\n",
       "      <td>tt10014018</td>\n",
       "      <td>Episode #1.17</td>\n",
       "      <td>TV Episode</td>\n",
       "      <td>[Drama]</td>\n",
       "      <td>2012</td>\n",
       "    </tr>\n",
       "    <tr>\n",
       "      <th>338119</th>\n",
       "      <td>tt21950130</td>\n",
       "      <td>Episode #3.1</td>\n",
       "      <td>TV Episode</td>\n",
       "      <td>[Family]</td>\n",
       "      <td>2024</td>\n",
       "    </tr>\n",
       "    <tr>\n",
       "      <th>338255</th>\n",
       "      <td>tt0523632</td>\n",
       "      <td>Episode dated 19 October 1992</td>\n",
       "      <td>TV Episode</td>\n",
       "      <td>[Game-Show]</td>\n",
       "      <td>1992</td>\n",
       "    </tr>\n",
       "    <tr>\n",
       "      <th>338259</th>\n",
       "      <td>tt0523633</td>\n",
       "      <td>Episode dated 17 January 1994</td>\n",
       "      <td>TV Episode</td>\n",
       "      <td>[Game-Show]</td>\n",
       "      <td>1994</td>\n",
       "    </tr>\n",
       "    <tr>\n",
       "      <th>338260</th>\n",
       "      <td>tt0523634</td>\n",
       "      <td>Episode dated 2 March 1994</td>\n",
       "      <td>TV Episode</td>\n",
       "      <td>[Game-Show]</td>\n",
       "      <td>1994</td>\n",
       "    </tr>\n",
       "  </tbody>\n",
       "</table>\n",
       "<p>314575 rows × 5 columns</p>\n",
       "</div>"
      ],
      "text/plain": [
       "                id                              title        type  \\\n",
       "0        tt0102921  Si da jia zu zhi long hu xiong di       Movie   \n",
       "1        tt0102593                       One Good Cop       Movie   \n",
       "2        tt0102844                           Saudagar       Movie   \n",
       "3        tt0102814        Sa Tam Chai yue Chow Si Lai       Movie   \n",
       "4        tt0102655                 The Perfect Weapon       Movie   \n",
       "...            ...                                ...         ...   \n",
       "337984  tt10014018                      Episode #1.17  TV Episode   \n",
       "338119  tt21950130                       Episode #3.1  TV Episode   \n",
       "338255   tt0523632      Episode dated 19 October 1992  TV Episode   \n",
       "338259   tt0523633      Episode dated 17 January 1994  TV Episode   \n",
       "338260   tt0523634         Episode dated 2 March 1994  TV Episode   \n",
       "\n",
       "              genre  year  \n",
       "0          [Action]  1991  \n",
       "1          [Action]  1991  \n",
       "2          [Action]  1991  \n",
       "3          [Action]  1991  \n",
       "4          [Action]  1991  \n",
       "...             ...   ...  \n",
       "337984      [Drama]  2012  \n",
       "338119     [Family]  2024  \n",
       "338255  [Game-Show]  1992  \n",
       "338259  [Game-Show]  1994  \n",
       "338260  [Game-Show]  1994  \n",
       "\n",
       "[314575 rows x 5 columns]"
      ]
     },
     "execution_count": 17,
     "metadata": {},
     "output_type": "execute_result"
    }
   ],
   "source": [
    "df"
   ]
  }
 ],
 "metadata": {
  "kernelspec": {
   "display_name": "StreanWise",
   "language": "python",
   "name": "python3"
  },
  "language_info": {
   "codemirror_mode": {
    "name": "ipython",
    "version": 3
   },
   "file_extension": ".py",
   "mimetype": "text/x-python",
   "name": "python",
   "nbconvert_exporter": "python",
   "pygments_lexer": "ipython3",
   "version": "3.12.8"
  }
 },
 "nbformat": 4,
 "nbformat_minor": 2
}
