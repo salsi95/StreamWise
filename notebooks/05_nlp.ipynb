{
 "cells": [
  {
   "cell_type": "code",
   "execution_count": 54,
   "metadata": {},
   "outputs": [
    {
     "name": "stdout",
     "output_type": "stream",
     "text": [
      "The autoreload extension is already loaded. To reload it, use:\n",
      "  %reload_ext autoreload\n"
     ]
    }
   ],
   "source": [
    "# Para no tener que reiniciar el kernel\n",
    "%load_ext autoreload\n",
    "%autoreload 2\n",
    "import sys  # System-specific parameters and functions\n",
    "sys.path.append(\"../\")  # Adding the parent directory to the system path\n",
    "from tqdm import tqdm\n",
    "from src import sp_nlp as sn\n",
    "# Para trabajar con Mongo\n",
    "# ------------------------------------------------------------------------------\n",
    "import pymongo\n"
   ]
  },
  {
   "cell_type": "code",
   "execution_count": 55,
   "metadata": {},
   "outputs": [],
   "source": [
    "cliente = pymongo.MongoClient()\n",
    "# nos conectamos con una BBDD \n",
    "imdb = cliente['IMDB']\n",
    "api = imdb['Api']\n",
    "peliculas = imdb['Peliculas']\n",
    "actores = imdb['Actores']\n",
    "nlp = imdb['NLP']\n"
   ]
  },
  {
   "cell_type": "code",
   "execution_count": 56,
   "metadata": {},
   "outputs": [
    {
     "name": "stderr",
     "output_type": "stream",
     "text": [
      "100%|██████████| 39215/39215 [05:06<00:00, 127.93it/s]\n"
     ]
    }
   ],
   "source": [
    "for peli in tqdm(list(peliculas.find())):\n",
    "    if nlp.find_one({'id_IMDB': peli['id_IMDB']}):\n",
    "        continue\n",
    "    if type(peli['argumento'])== float:\n",
    "        continue\n",
    "    dicc = {}\n",
    "    dicc['id_IMDB'] = peli['id_IMDB']\n",
    "    try:\n",
    "        dicc['argumento'] = sn.limpiar_texto(peli['argumento'])\n",
    "        nlp.insert_one(dicc)\n",
    "    except:\n",
    "        pass"
   ]
  },
  {
   "cell_type": "code",
   "execution_count": 57,
   "metadata": {},
   "outputs": [
    {
     "name": "stderr",
     "output_type": "stream",
     "text": [
      "100%|██████████| 39338/39338 [05:50<00:00, 112.34it/s]\n"
     ]
    }
   ],
   "source": [
    "for peli in tqdm(list(peliculas.find())):\n",
    "    if nlp.find_one({'id_IMDB': peli['id_IMDB']}):\n",
    "        lista_generos = api.find_one({'id': peli['id_IMDB']})['genre']\n",
    "\n",
    "        \n",
    "        nlp.update_one({'id_IMDB':peli['id_IMDB']},{'$set': {'genre': lista_generos}})\n",
    "\n"
   ]
  },
  {
   "cell_type": "code",
   "execution_count": 58,
   "metadata": {},
   "outputs": [
    {
     "name": "stderr",
     "output_type": "stream",
     "text": [
      "100%|██████████| 39475/39475 [01:55<00:00, 341.14it/s]\n"
     ]
    }
   ],
   "source": [
    "for peli in tqdm(list(peliculas.find())):\n",
    "    if nlp.find_one({'id_IMDB': peli['id_IMDB']}):\n",
    "        lista_directores = peliculas.find_one({'id_IMDB': peli['id_IMDB']})['direccion']\n",
    "\n",
    "        \n",
    "        nlp.update_one({'id_IMDB':peli['id_IMDB']},{'$set': {'direccion': lista_directores}})"
   ]
  },
  {
   "cell_type": "code",
   "execution_count": 59,
   "metadata": {},
   "outputs": [
    {
     "name": "stderr",
     "output_type": "stream",
     "text": [
      "100%|██████████| 39515/39515 [01:56<00:00, 337.87it/s]\n"
     ]
    }
   ],
   "source": [
    "for peli in tqdm(list(peliculas.find())):\n",
    "    if nlp.find_one({'id_IMDB': peli['id_IMDB']}):\n",
    "        lista_guion = peliculas.find_one({'id_IMDB': peli['id_IMDB']})['guion']\n",
    "\n",
    "        \n",
    "        nlp.update_one({'id_IMDB':peli['id_IMDB']},{'$set': {'guion': lista_guion}})"
   ]
  },
  {
   "cell_type": "code",
   "execution_count": 60,
   "metadata": {},
   "outputs": [
    {
     "name": "stderr",
     "output_type": "stream",
     "text": [
      "100%|██████████| 39559/39559 [02:30<00:00, 262.64it/s]\n"
     ]
    }
   ],
   "source": [
    "for peli in tqdm(list(peliculas.find())):\n",
    "    if nlp.find_one({'id_IMDB': peli['id_IMDB']}):\n",
    "        puntuacion = peliculas.find_one({'id_IMDB': peli['id_IMDB']})['puntuacion']\n",
    "\n",
    "        \n",
    "        nlp.update_one({'id_IMDB':peli['id_IMDB']},{'$set': {'puntuacion': puntuacion}})"
   ]
  },
  {
   "cell_type": "code",
   "execution_count": 61,
   "metadata": {},
   "outputs": [
    {
     "name": "stderr",
     "output_type": "stream",
     "text": [
      " 50%|████▉     | 19800/39613 [01:19<01:19, 247.80it/s]\n"
     ]
    },
    {
     "ename": "KeyError",
     "evalue": "'actores'",
     "output_type": "error",
     "traceback": [
      "\u001b[0;31m---------------------------------------------------------------------------\u001b[0m",
      "\u001b[0;31mKeyError\u001b[0m                                  Traceback (most recent call last)",
      "Cell \u001b[0;32mIn[61], line 3\u001b[0m\n\u001b[1;32m      1\u001b[0m \u001b[38;5;28;01mfor\u001b[39;00m peli \u001b[38;5;129;01min\u001b[39;00m tqdm(\u001b[38;5;28mlist\u001b[39m(peliculas\u001b[38;5;241m.\u001b[39mfind())):\n\u001b[1;32m      2\u001b[0m     \u001b[38;5;28;01mif\u001b[39;00m nlp\u001b[38;5;241m.\u001b[39mfind_one({\u001b[38;5;124m'\u001b[39m\u001b[38;5;124mid_IMDB\u001b[39m\u001b[38;5;124m'\u001b[39m: peli[\u001b[38;5;124m'\u001b[39m\u001b[38;5;124mid_IMDB\u001b[39m\u001b[38;5;124m'\u001b[39m]}):\n\u001b[0;32m----> 3\u001b[0m         \u001b[38;5;28;01mif\u001b[39;00m \u001b[43mpeliculas\u001b[49m\u001b[38;5;241;43m.\u001b[39;49m\u001b[43mfind_one\u001b[49m\u001b[43m(\u001b[49m\u001b[43m{\u001b[49m\u001b[38;5;124;43m'\u001b[39;49m\u001b[38;5;124;43mid_IMDB\u001b[39;49m\u001b[38;5;124;43m'\u001b[39;49m\u001b[43m:\u001b[49m\u001b[43m \u001b[49m\u001b[43mpeli\u001b[49m\u001b[43m[\u001b[49m\u001b[38;5;124;43m'\u001b[39;49m\u001b[38;5;124;43mid_IMDB\u001b[39;49m\u001b[38;5;124;43m'\u001b[39;49m\u001b[43m]\u001b[49m\u001b[43m}\u001b[49m\u001b[43m)\u001b[49m\u001b[43m[\u001b[49m\u001b[38;5;124;43m'\u001b[39;49m\u001b[38;5;124;43mactores\u001b[39;49m\u001b[38;5;124;43m'\u001b[39;49m\u001b[43m]\u001b[49m:\n\u001b[1;32m      4\u001b[0m             lista_actores \u001b[38;5;241m=\u001b[39m peliculas\u001b[38;5;241m.\u001b[39mfind_one({\u001b[38;5;124m'\u001b[39m\u001b[38;5;124mid_IMDB\u001b[39m\u001b[38;5;124m'\u001b[39m: peli[\u001b[38;5;124m'\u001b[39m\u001b[38;5;124mid_IMDB\u001b[39m\u001b[38;5;124m'\u001b[39m]})[\u001b[38;5;124m'\u001b[39m\u001b[38;5;124mactores\u001b[39m\u001b[38;5;124m'\u001b[39m]\n\u001b[1;32m      7\u001b[0m             nlp\u001b[38;5;241m.\u001b[39mupdate_one({\u001b[38;5;124m'\u001b[39m\u001b[38;5;124mid_IMDB\u001b[39m\u001b[38;5;124m'\u001b[39m:peli[\u001b[38;5;124m'\u001b[39m\u001b[38;5;124mid_IMDB\u001b[39m\u001b[38;5;124m'\u001b[39m]},{\u001b[38;5;124m'\u001b[39m\u001b[38;5;124m$set\u001b[39m\u001b[38;5;124m'\u001b[39m: {\u001b[38;5;124m'\u001b[39m\u001b[38;5;124mactores\u001b[39m\u001b[38;5;124m'\u001b[39m: lista_actores}})\n",
      "\u001b[0;31mKeyError\u001b[0m: 'actores'"
     ]
    }
   ],
   "source": [
    "for peli in tqdm(list(peliculas.find())):\n",
    "    if nlp.find_one({'id_IMDB': peli['id_IMDB']}):\n",
    "        if peliculas.find_one({'id_IMDB': peli['id_IMDB']})['actores']:\n",
    "            lista_actores = peliculas.find_one({'id_IMDB': peli['id_IMDB']})['actores']\n",
    "\n",
    "        \n",
    "            nlp.update_one({'id_IMDB':peli['id_IMDB']},{'$set': {'actores': lista_actores}})"
   ]
  }
 ],
 "metadata": {
  "kernelspec": {
   "display_name": "StreanWise",
   "language": "python",
   "name": "python3"
  },
  "language_info": {
   "codemirror_mode": {
    "name": "ipython",
    "version": 3
   },
   "file_extension": ".py",
   "mimetype": "text/x-python",
   "name": "python",
   "nbconvert_exporter": "python",
   "pygments_lexer": "ipython3",
   "version": "3.12.8"
  }
 },
 "nbformat": 4,
 "nbformat_minor": 2
}
