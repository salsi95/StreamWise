{
 "cells": [
  {
   "cell_type": "code",
   "execution_count": 3,
   "metadata": {},
   "outputs": [
    {
     "name": "stdout",
     "output_type": "stream",
     "text": [
      "The autoreload extension is already loaded. To reload it, use:\n",
      "  %reload_ext autoreload\n"
     ]
    },
    {
     "name": "stderr",
     "output_type": "stream",
     "text": [
      "[nltk_data] Error loading stopwords: <urlopen error [Errno 61]\n",
      "[nltk_data]     Connection refused>\n",
      "[nltk_data] Error loading vader_lexicon: <urlopen error [Errno 61]\n",
      "[nltk_data]     Connection refused>\n"
     ]
    }
   ],
   "source": [
    "# Para no tener que reiniciar el kernel\n",
    "%load_ext autoreload\n",
    "%autoreload 2\n",
    "import sys  # System-specific parameters and functions\n",
    "sys.path.append(\"../\")  # Adding the parent directory to the system path\n",
    "from tqdm import tqdm\n",
    "from src import sp_nlp as sn\n",
    "# Para trabajar con Mongo\n",
    "# ------------------------------------------------------------------------------\n",
    "import pymongo\n"
   ]
  },
  {
   "cell_type": "code",
   "execution_count": 25,
   "metadata": {},
   "outputs": [],
   "source": [
    "cliente = pymongo.MongoClient()\n",
    "# nos conectamos con una BBDD \n",
    "imdb = cliente['IMDB']\n",
    "api = imdb['Api']\n",
    "peliculas = imdb['Peliculas']\n",
    "actores = imdb['Actores']\n",
    "nlp = imdb['NLP']\n"
   ]
  },
  {
   "cell_type": "code",
   "execution_count": 5,
   "metadata": {},
   "outputs": [
    {
     "name": "stderr",
     "output_type": "stream",
     "text": [
      "100%|██████████| 22978/22978 [03:07<00:00, 122.31it/s]\n"
     ]
    }
   ],
   "source": [
    "for peli in tqdm(list(peliculas.find())):\n",
    "    if nlp.find_one({'id_IMDB': peli['id_IMDB']}):\n",
    "        continue\n",
    "    if type(peli['argumento'])== float:\n",
    "        continue\n",
    "    dicc = {}\n",
    "    dicc['id_IMDB'] = peli['id_IMDB']\n",
    "    try:\n",
    "        dicc['argumento'] = sn.limpiar_texto(peli['argumento'])\n",
    "        nlp.insert_one(dicc)\n",
    "    except:\n",
    "        pass"
   ]
  },
  {
   "cell_type": "code",
   "execution_count": 13,
   "metadata": {},
   "outputs": [
    {
     "data": {
      "text/plain": [
       "['Action']"
      ]
     },
     "execution_count": 13,
     "metadata": {},
     "output_type": "execute_result"
    }
   ],
   "source": [
    "api.find_one({'id': 'tt0102921'})['genre']"
   ]
  },
  {
   "cell_type": "code",
   "execution_count": null,
   "metadata": {},
   "outputs": [],
   "source": [
    "nlp.update_one({'id_IMDB':peli['id_IMDB']},{'$set': {'genre': lista_generos}})\n"
   ]
  },
  {
   "cell_type": "code",
   "execution_count": 11,
   "metadata": {},
   "outputs": [
    {
     "data": {
      "text/plain": [
       "{'_id': ObjectId('679e542897e40febc41dc85e'),\n",
       " 'id_IMDB': 'tt0102921',\n",
       " 'argumento': 'many people run hong kong early day prc two young brother get hong kong almost time two kid bully local ruffian wharf day day join chaozhou gang become bosss foster son begin operate business boss two grow satisfied business eld invest publish business get rich become chairman publishing group young step drug business become gang boss along thrive business icac establish everything take sudden turn become bad rapidly'}"
      ]
     },
     "execution_count": 11,
     "metadata": {},
     "output_type": "execute_result"
    }
   ],
   "source": [
    "nlp.find_one({'id_IMDB': 'tt0102921'})"
   ]
  },
  {
   "cell_type": "code",
   "execution_count": 17,
   "metadata": {},
   "outputs": [
    {
     "name": "stderr",
     "output_type": "stream",
     "text": [
      "100%|██████████| 23298/23298 [03:47<00:00, 102.25it/s]\n"
     ]
    }
   ],
   "source": [
    "for peli in tqdm(list(peliculas.find())):\n",
    "    if nlp.find_one({'id_IMDB': peli['id_IMDB']}):\n",
    "        lista_generos = api.find_one({'id': peli['id_IMDB']})['genre']\n",
    "\n",
    "        \n",
    "        nlp.update_one({'id_IMDB':peli['id_IMDB']},{'$set': {'genre': lista_generos}})\n",
    "\n"
   ]
  },
  {
   "cell_type": "code",
   "execution_count": 21,
   "metadata": {},
   "outputs": [
    {
     "data": {
      "text/plain": [
       "{'_id': ObjectId('679804f785511283297fb50b'),\n",
       " 'id_IMDB': 'tt0102921',\n",
       " 'puntuacion': 6.7,\n",
       " 'direccion': ['Siu-Hung Chung'],\n",
       " 'guion': ['Gwing-Gai Lee', 'Ying-Chiet Lee'],\n",
       " 'duracion': 116,\n",
       " 'argumento': \"Many people ran to Hong Kong in the early days of PRC. Two young brothers got to Hong Kong almost at the same time. The two kids was bullied by local ruffians at the wharf day after day until they joined the Chaozhou gang and became the boss's foster sons. They began to operate some business for the boss. The two grow up and are not satisfied with the business any more. The elder invests on publishing business, gets rich and becomes chairman of a publishing group. The younger steps into drug business and becomes a gang boss. Along with their thriving business, the ICAC is established. Everything takes a sudden turn and becomes worse rapidly.\",\n",
       " 'actores': ['Ray Lui',\n",
       "  'Kent Cheng',\n",
       "  'Nina Li Chi',\n",
       "  'Michael Wai-Man Chan',\n",
       "  'Stephen Chang',\n",
       "  'Nelson Cheung',\n",
       "  'Tsan-Sang Cheung',\n",
       "  'Wing-Hon Cheung',\n",
       "  'Liu Chia-Yung',\n",
       "  'Kwai-Bo Chun']}"
      ]
     },
     "execution_count": 21,
     "metadata": {},
     "output_type": "execute_result"
    }
   ],
   "source": [
    "peliculas.find()[0]"
   ]
  },
  {
   "cell_type": "code",
   "execution_count": null,
   "metadata": {},
   "outputs": [],
   "source": [
    "peliculas.find_one({'id': peli['id_IMDB']})['direccion']"
   ]
  },
  {
   "cell_type": "code",
   "execution_count": 22,
   "metadata": {},
   "outputs": [
    {
     "name": "stderr",
     "output_type": "stream",
     "text": [
      "100%|██████████| 27483/27483 [01:37<00:00, 280.56it/s]\n"
     ]
    }
   ],
   "source": [
    "for peli in tqdm(list(peliculas.find())):\n",
    "    if nlp.find_one({'id_IMDB': peli['id_IMDB']}):\n",
    "        lista_directores = peliculas.find_one({'id_IMDB': peli['id_IMDB']})['direccion']\n",
    "\n",
    "        \n",
    "        nlp.update_one({'id_IMDB':peli['id_IMDB']},{'$set': {'direccion': lista_directores}})"
   ]
  },
  {
   "cell_type": "code",
   "execution_count": 23,
   "metadata": {},
   "outputs": [
    {
     "name": "stderr",
     "output_type": "stream",
     "text": [
      "100%|██████████| 27731/27731 [01:43<00:00, 268.57it/s]\n"
     ]
    }
   ],
   "source": [
    "for peli in tqdm(list(peliculas.find())):\n",
    "    if nlp.find_one({'id_IMDB': peli['id_IMDB']}):\n",
    "        lista_guion = peliculas.find_one({'id_IMDB': peli['id_IMDB']})['guion']\n",
    "\n",
    "        \n",
    "        nlp.update_one({'id_IMDB':peli['id_IMDB']},{'$set': {'guion': lista_guion}})"
   ]
  },
  {
   "cell_type": "code",
   "execution_count": 45,
   "metadata": {},
   "outputs": [
    {
     "name": "stderr",
     "output_type": "stream",
     "text": [
      " 69%|██████▉   | 19796/28749 [00:48<00:22, 404.49it/s]\n"
     ]
    },
    {
     "ename": "KeyError",
     "evalue": "'actores'",
     "output_type": "error",
     "traceback": [
      "\u001b[0;31m---------------------------------------------------------------------------\u001b[0m",
      "\u001b[0;31mKeyError\u001b[0m                                  Traceback (most recent call last)",
      "Cell \u001b[0;32mIn[45], line 3\u001b[0m\n\u001b[1;32m      1\u001b[0m \u001b[38;5;28;01mfor\u001b[39;00m peli \u001b[38;5;129;01min\u001b[39;00m tqdm(\u001b[38;5;28mlist\u001b[39m(peliculas\u001b[38;5;241m.\u001b[39mfind())):\n\u001b[1;32m      2\u001b[0m     \u001b[38;5;28;01mif\u001b[39;00m nlp\u001b[38;5;241m.\u001b[39mfind_one({\u001b[38;5;124m'\u001b[39m\u001b[38;5;124mid_IMDB\u001b[39m\u001b[38;5;124m'\u001b[39m: peli[\u001b[38;5;124m'\u001b[39m\u001b[38;5;124mid_IMDB\u001b[39m\u001b[38;5;124m'\u001b[39m]}):\n\u001b[0;32m----> 3\u001b[0m         \u001b[38;5;28;01mif\u001b[39;00m \u001b[43mpeliculas\u001b[49m\u001b[38;5;241;43m.\u001b[39;49m\u001b[43mfind_one\u001b[49m\u001b[43m(\u001b[49m\u001b[43m{\u001b[49m\u001b[38;5;124;43m'\u001b[39;49m\u001b[38;5;124;43mid_IMDB\u001b[39;49m\u001b[38;5;124;43m'\u001b[39;49m\u001b[43m:\u001b[49m\u001b[43m \u001b[49m\u001b[43mpeli\u001b[49m\u001b[43m[\u001b[49m\u001b[38;5;124;43m'\u001b[39;49m\u001b[38;5;124;43mid_IMDB\u001b[39;49m\u001b[38;5;124;43m'\u001b[39;49m\u001b[43m]\u001b[49m\u001b[43m}\u001b[49m\u001b[43m)\u001b[49m\u001b[43m[\u001b[49m\u001b[38;5;124;43m'\u001b[39;49m\u001b[38;5;124;43mactores\u001b[39;49m\u001b[38;5;124;43m'\u001b[39;49m\u001b[43m]\u001b[49m:\n\u001b[1;32m      4\u001b[0m             lista_actores \u001b[38;5;241m=\u001b[39m peliculas\u001b[38;5;241m.\u001b[39mfind_one({\u001b[38;5;124m'\u001b[39m\u001b[38;5;124mid_IMDB\u001b[39m\u001b[38;5;124m'\u001b[39m: peli[\u001b[38;5;124m'\u001b[39m\u001b[38;5;124mid_IMDB\u001b[39m\u001b[38;5;124m'\u001b[39m]})[\u001b[38;5;124m'\u001b[39m\u001b[38;5;124mactores\u001b[39m\u001b[38;5;124m'\u001b[39m]\n\u001b[1;32m      7\u001b[0m             nlp\u001b[38;5;241m.\u001b[39mupdate_one({\u001b[38;5;124m'\u001b[39m\u001b[38;5;124mid_IMDB\u001b[39m\u001b[38;5;124m'\u001b[39m:peli[\u001b[38;5;124m'\u001b[39m\u001b[38;5;124mid_IMDB\u001b[39m\u001b[38;5;124m'\u001b[39m]},{\u001b[38;5;124m'\u001b[39m\u001b[38;5;124m$set\u001b[39m\u001b[38;5;124m'\u001b[39m: {\u001b[38;5;124m'\u001b[39m\u001b[38;5;124mactores\u001b[39m\u001b[38;5;124m'\u001b[39m: lista_actores}})\n",
      "\u001b[0;31mKeyError\u001b[0m: 'actores'"
     ]
    }
   ],
   "source": [
    "for peli in tqdm(list(peliculas.find())):\n",
    "    if nlp.find_one({'id_IMDB': peli['id_IMDB']}):\n",
    "        if peliculas.find_one({'id_IMDB': peli['id_IMDB']})['actores']:\n",
    "            lista_actores = peliculas.find_one({'id_IMDB': peli['id_IMDB']})['actores']\n",
    "\n",
    "        \n",
    "            nlp.update_one({'id_IMDB':peli['id_IMDB']},{'$set': {'actores': lista_actores}})"
   ]
  },
  {
   "cell_type": "code",
   "execution_count": 42,
   "metadata": {},
   "outputs": [
    {
     "name": "stderr",
     "output_type": "stream",
     "text": [
      "100%|██████████| 28529/28529 [01:10<00:00, 404.54it/s]\n"
     ]
    }
   ],
   "source": [
    "for peli in tqdm(list(peliculas.find())):\n",
    "    if nlp.find_one({'id_IMDB': peli['id_IMDB']}):\n",
    "        puntuacion = peliculas.find_one({'id_IMDB': peli['id_IMDB']})['puntuacion']\n",
    "\n",
    "        \n",
    "        nlp.update_one({'id_IMDB':peli['id_IMDB']},{'$set': {'puntuacion': puntuacion}})"
   ]
  }
 ],
 "metadata": {
  "kernelspec": {
   "display_name": "StreanWise",
   "language": "python",
   "name": "python3"
  },
  "language_info": {
   "codemirror_mode": {
    "name": "ipython",
    "version": 3
   },
   "file_extension": ".py",
   "mimetype": "text/x-python",
   "name": "python",
   "nbconvert_exporter": "python",
   "pygments_lexer": "ipython3",
   "version": "3.12.8"
  }
 },
 "nbformat": 4,
 "nbformat_minor": 2
}
