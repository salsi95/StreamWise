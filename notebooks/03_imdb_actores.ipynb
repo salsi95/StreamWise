{
 "cells": [
  {
   "cell_type": "code",
   "execution_count": null,
   "metadata": {},
   "outputs": [],
   "source": [
    "# Importamos las librerías que necesitamos\n",
    "\n",
    "# Manejo del sistema\n",
    "# -----------------------------------------------------------------------\n",
    "import sys\n",
    "sys.path.append(\"../\")  # Agregamos el directorio principal al sistema de rutas\n",
    "\n",
    "# Barra de progreso\n",
    "# -----------------------------------------------------------------------\n",
    "from tqdm import tqdm\n",
    "\n",
    "# Funciones personalizadas\n",
    "# -----------------------------------------------------------------------\n",
    "from src import sp_imdb as si\n",
    "\n",
    "# Conexión a base de datos\n",
    "# -----------------------------------------------------------------------\n",
    "import pymongo\n",
    "\n",
    "# Manejo de advertencias\n",
    "# -----------------------------------------------------------------------\n",
    "import warnings\n"
   ]
  },
  {
   "cell_type": "code",
   "execution_count": 16,
   "metadata": {},
   "outputs": [],
   "source": [
    "cliente = pymongo.MongoClient()\n",
    "# nos conectamos con una BBDD \n",
    "imdb = cliente['IMDB']\n",
    "peliculas = imdb['Peliculas']\n",
    "actores = imdb['Actores']"
   ]
  },
  {
   "cell_type": "code",
   "execution_count": 19,
   "metadata": {},
   "outputs": [
    {
     "name": "stderr",
     "output_type": "stream",
     "text": [
      " 44%|████▍     | 5634/12873 [20:17<26:04,  4.63it/s]  \n"
     ]
    },
    {
     "ename": "NoSuchWindowException",
     "evalue": "Message: no such window: target window already closed\nfrom unknown error: web view not found\n  (Session info: chrome=120.0.6099.234)\nStacktrace:\n0   chromedriver                        0x0000000102e944dc chromedriver + 4162780\n1   chromedriver                        0x0000000102e8c664 chromedriver + 4130404\n2   chromedriver                        0x0000000102ae3bc0 chromedriver + 293824\n3   chromedriver                        0x0000000102abc6c0 chromedriver + 132800\n4   chromedriver                        0x0000000102b5525c chromedriver + 758364\n5   chromedriver                        0x0000000102b5ab70 chromedriver + 781168\n6   chromedriver                        0x0000000102b1d6bc chromedriver + 530108\n7   chromedriver                        0x0000000102b1e930 chromedriver + 534832\n8   chromedriver                        0x0000000102e59e08 chromedriver + 3923464\n9   chromedriver                        0x0000000102e5e3dc chromedriver + 3941340\n10  chromedriver                        0x0000000102e42038 chromedriver + 3825720\n11  chromedriver                        0x0000000102e5ef3c chromedriver + 3944252\n12  chromedriver                        0x0000000102e346f4 chromedriver + 3770100\n13  chromedriver                        0x0000000102e7b980 chromedriver + 4061568\n14  chromedriver                        0x0000000102e7baf8 chromedriver + 4061944\n15  chromedriver                        0x0000000102e8c2e4 chromedriver + 4129508\n16  libsystem_pthread.dylib             0x00000001819fe034 _pthread_start + 136\n17  libsystem_pthread.dylib             0x00000001819f8e3c thread_start + 8\n",
     "output_type": "error",
     "traceback": [
      "\u001b[0;31m---------------------------------------------------------------------------\u001b[0m",
      "\u001b[0;31mNoSuchWindowException\u001b[0m                     Traceback (most recent call last)",
      "File \u001b[0;32m~/Desktop/Frikeo/StreamWise/notebooks/../src/sp_imdb.py:194\u001b[0m, in \u001b[0;36mobtener_conocidos\u001b[0;34m()\u001b[0m\n\u001b[1;32m    192\u001b[0m         pass\n\u001b[0;32m--> 194\u001b[0m #Actualizamos el documento de mongo\n\u001b[1;32m    195\u001b[0m peliculas.update_one({'id_IMDB':peli['id_IMDB']},{'$set': {'actores': lista_actores}})\n",
      "File \u001b[0;32m/opt/homebrew/Caskroom/miniconda/base/envs/StreanWise/lib/python3.12/site-packages/selenium/webdriver/remote/webdriver.py:888\u001b[0m, in \u001b[0;36mWebDriver.find_element\u001b[0;34m(self, by, value)\u001b[0m\n\u001b[1;32m    886\u001b[0m     \u001b[38;5;28;01mreturn\u001b[39;00m elements[\u001b[38;5;241m0\u001b[39m]\n\u001b[0;32m--> 888\u001b[0m \u001b[38;5;28;01mreturn\u001b[39;00m \u001b[38;5;28;43mself\u001b[39;49m\u001b[38;5;241;43m.\u001b[39;49m\u001b[43mexecute\u001b[49m\u001b[43m(\u001b[49m\u001b[43mCommand\u001b[49m\u001b[38;5;241;43m.\u001b[39;49m\u001b[43mFIND_ELEMENT\u001b[49m\u001b[43m,\u001b[49m\u001b[43m \u001b[49m\u001b[43m{\u001b[49m\u001b[38;5;124;43m\"\u001b[39;49m\u001b[38;5;124;43musing\u001b[39;49m\u001b[38;5;124;43m\"\u001b[39;49m\u001b[43m:\u001b[49m\u001b[43m \u001b[49m\u001b[43mby\u001b[49m\u001b[43m,\u001b[49m\u001b[43m \u001b[49m\u001b[38;5;124;43m\"\u001b[39;49m\u001b[38;5;124;43mvalue\u001b[39;49m\u001b[38;5;124;43m\"\u001b[39;49m\u001b[43m:\u001b[49m\u001b[43m \u001b[49m\u001b[43mvalue\u001b[49m\u001b[43m}\u001b[49m\u001b[43m)\u001b[49m[\u001b[38;5;124m\"\u001b[39m\u001b[38;5;124mvalue\u001b[39m\u001b[38;5;124m\"\u001b[39m]\n",
      "File \u001b[0;32m/opt/homebrew/Caskroom/miniconda/base/envs/StreanWise/lib/python3.12/site-packages/selenium/webdriver/remote/webdriver.py:429\u001b[0m, in \u001b[0;36mWebDriver.execute\u001b[0;34m(self, driver_command, params)\u001b[0m\n\u001b[1;32m    428\u001b[0m \u001b[38;5;28;01mif\u001b[39;00m response:\n\u001b[0;32m--> 429\u001b[0m     \u001b[38;5;28;43mself\u001b[39;49m\u001b[38;5;241;43m.\u001b[39;49m\u001b[43merror_handler\u001b[49m\u001b[38;5;241;43m.\u001b[39;49m\u001b[43mcheck_response\u001b[49m\u001b[43m(\u001b[49m\u001b[43mresponse\u001b[49m\u001b[43m)\u001b[49m\n\u001b[1;32m    430\u001b[0m     response[\u001b[38;5;124m\"\u001b[39m\u001b[38;5;124mvalue\u001b[39m\u001b[38;5;124m\"\u001b[39m] \u001b[38;5;241m=\u001b[39m \u001b[38;5;28mself\u001b[39m\u001b[38;5;241m.\u001b[39m_unwrap_value(response\u001b[38;5;241m.\u001b[39mget(\u001b[38;5;124m\"\u001b[39m\u001b[38;5;124mvalue\u001b[39m\u001b[38;5;124m\"\u001b[39m, \u001b[38;5;28;01mNone\u001b[39;00m))\n",
      "File \u001b[0;32m/opt/homebrew/Caskroom/miniconda/base/envs/StreanWise/lib/python3.12/site-packages/selenium/webdriver/remote/errorhandler.py:232\u001b[0m, in \u001b[0;36mErrorHandler.check_response\u001b[0;34m(self, response)\u001b[0m\n\u001b[1;32m    231\u001b[0m     \u001b[38;5;28;01mraise\u001b[39;00m exception_class(message, screen, stacktrace, alert_text)  \u001b[38;5;66;03m# type: ignore[call-arg]  # mypy is not smart enough here\u001b[39;00m\n\u001b[0;32m--> 232\u001b[0m \u001b[38;5;28;01mraise\u001b[39;00m exception_class(message, screen, stacktrace)\n",
      "\u001b[0;31mNoSuchWindowException\u001b[0m: Message: no such window: target window already closed\nfrom unknown error: web view not found\n  (Session info: chrome=120.0.6099.234)\nStacktrace:\n0   chromedriver                        0x0000000102e944dc chromedriver + 4162780\n1   chromedriver                        0x0000000102e8c664 chromedriver + 4130404\n2   chromedriver                        0x0000000102ae3bc0 chromedriver + 293824\n3   chromedriver                        0x0000000102abc6c0 chromedriver + 132800\n4   chromedriver                        0x0000000102b5525c chromedriver + 758364\n5   chromedriver                        0x0000000102b69294 chromedriver + 840340\n6   chromedriver                        0x0000000102b1d6bc chromedriver + 530108\n7   chromedriver                        0x0000000102b1e930 chromedriver + 534832\n8   chromedriver                        0x0000000102e59e08 chromedriver + 3923464\n9   chromedriver                        0x0000000102e5e3dc chromedriver + 3941340\n10  chromedriver                        0x0000000102e42038 chromedriver + 3825720\n11  chromedriver                        0x0000000102e5ef3c chromedriver + 3944252\n12  chromedriver                        0x0000000102e346f4 chromedriver + 3770100\n13  chromedriver                        0x0000000102e7b980 chromedriver + 4061568\n14  chromedriver                        0x0000000102e7baf8 chromedriver + 4061944\n15  chromedriver                        0x0000000102e8c2e4 chromedriver + 4129508\n16  libsystem_pthread.dylib             0x00000001819fe034 _pthread_start + 136\n17  libsystem_pthread.dylib             0x00000001819f8e3c thread_start + 8\n",
      "\nDuring handling of the above exception, another exception occurred:\n",
      "\u001b[0;31mNoSuchWindowException\u001b[0m                     Traceback (most recent call last)",
      "Cell \u001b[0;32mIn[19], line 1\u001b[0m\n\u001b[0;32m----> 1\u001b[0m \u001b[43msi\u001b[49m\u001b[38;5;241;43m.\u001b[39;49m\u001b[43mobtener_conocidos\u001b[49m\u001b[43m(\u001b[49m\u001b[43m)\u001b[49m\n",
      "File \u001b[0;32m~/Desktop/Frikeo/StreamWise/notebooks/../src/sp_imdb.py:199\u001b[0m, in \u001b[0;36mobtener_conocidos\u001b[0;34m()\u001b[0m\n\u001b[1;32m    196\u001b[0m     driver\u001b[38;5;241m.\u001b[39mfind_element(\u001b[38;5;124m\"\u001b[39m\u001b[38;5;124mcss selector\u001b[39m\u001b[38;5;124m\"\u001b[39m, \u001b[38;5;124m\"\u001b[39m\u001b[38;5;124m#__next > main > div.ipc-page-content-container.ipc-page-content-container--full.sc-9b6c53e1-0.jTQUPo > div.ipc-page-content-container.ipc-page-content-container--center > section > div > div.ipc-page-grid__item.ipc-page-grid__item--span-2 > section:nth-child(4) > div.sc-b03627f1-2.gWHDBT > ul > li:nth-child(1) > div.ipc-metadata-list-summary-item__c > div > a\u001b[39m\u001b[38;5;124m\"\u001b[39m)\u001b[38;5;241m.\u001b[39mclick()\n\u001b[1;32m    198\u001b[0m \u001b[38;5;28;01mexcept\u001b[39;00m:\n\u001b[0;32m--> 199\u001b[0m     \u001b[43mdriver\u001b[49m\u001b[38;5;241;43m.\u001b[39;49m\u001b[43mclose\u001b[49m\u001b[43m(\u001b[49m\u001b[43m)\u001b[49m\n\u001b[1;32m    200\u001b[0m     \u001b[38;5;66;03m#Abrimos el Chrome\u001b[39;00m\n\u001b[1;32m    201\u001b[0m     driver \u001b[38;5;241m=\u001b[39m webdriver\u001b[38;5;241m.\u001b[39mChrome()\n",
      "File \u001b[0;32m/opt/homebrew/Caskroom/miniconda/base/envs/StreanWise/lib/python3.12/site-packages/selenium/webdriver/remote/webdriver.py:579\u001b[0m, in \u001b[0;36mWebDriver.close\u001b[0;34m(self)\u001b[0m\n\u001b[1;32m    572\u001b[0m \u001b[38;5;28;01mdef\u001b[39;00m \u001b[38;5;21mclose\u001b[39m(\u001b[38;5;28mself\u001b[39m) \u001b[38;5;241m-\u001b[39m\u001b[38;5;241m>\u001b[39m \u001b[38;5;28;01mNone\u001b[39;00m:\n\u001b[1;32m    573\u001b[0m \u001b[38;5;250m    \u001b[39m\u001b[38;5;124;03m\"\"\"Closes the current window.\u001b[39;00m\n\u001b[1;32m    574\u001b[0m \n\u001b[1;32m    575\u001b[0m \u001b[38;5;124;03m    Example:\u001b[39;00m\n\u001b[1;32m    576\u001b[0m \u001b[38;5;124;03m    --------\u001b[39;00m\n\u001b[1;32m    577\u001b[0m \u001b[38;5;124;03m    >>> driver.close()\u001b[39;00m\n\u001b[1;32m    578\u001b[0m \u001b[38;5;124;03m    \"\"\"\u001b[39;00m\n\u001b[0;32m--> 579\u001b[0m     \u001b[38;5;28;43mself\u001b[39;49m\u001b[38;5;241;43m.\u001b[39;49m\u001b[43mexecute\u001b[49m\u001b[43m(\u001b[49m\u001b[43mCommand\u001b[49m\u001b[38;5;241;43m.\u001b[39;49m\u001b[43mCLOSE\u001b[49m\u001b[43m)\u001b[49m\n",
      "File \u001b[0;32m/opt/homebrew/Caskroom/miniconda/base/envs/StreanWise/lib/python3.12/site-packages/selenium/webdriver/remote/webdriver.py:429\u001b[0m, in \u001b[0;36mWebDriver.execute\u001b[0;34m(self, driver_command, params)\u001b[0m\n\u001b[1;32m    427\u001b[0m response \u001b[38;5;241m=\u001b[39m \u001b[38;5;28mself\u001b[39m\u001b[38;5;241m.\u001b[39mcommand_executor\u001b[38;5;241m.\u001b[39mexecute(driver_command, params)\n\u001b[1;32m    428\u001b[0m \u001b[38;5;28;01mif\u001b[39;00m response:\n\u001b[0;32m--> 429\u001b[0m     \u001b[38;5;28;43mself\u001b[39;49m\u001b[38;5;241;43m.\u001b[39;49m\u001b[43merror_handler\u001b[49m\u001b[38;5;241;43m.\u001b[39;49m\u001b[43mcheck_response\u001b[49m\u001b[43m(\u001b[49m\u001b[43mresponse\u001b[49m\u001b[43m)\u001b[49m\n\u001b[1;32m    430\u001b[0m     response[\u001b[38;5;124m\"\u001b[39m\u001b[38;5;124mvalue\u001b[39m\u001b[38;5;124m\"\u001b[39m] \u001b[38;5;241m=\u001b[39m \u001b[38;5;28mself\u001b[39m\u001b[38;5;241m.\u001b[39m_unwrap_value(response\u001b[38;5;241m.\u001b[39mget(\u001b[38;5;124m\"\u001b[39m\u001b[38;5;124mvalue\u001b[39m\u001b[38;5;124m\"\u001b[39m, \u001b[38;5;28;01mNone\u001b[39;00m))\n\u001b[1;32m    431\u001b[0m     \u001b[38;5;28;01mreturn\u001b[39;00m response\n",
      "File \u001b[0;32m/opt/homebrew/Caskroom/miniconda/base/envs/StreanWise/lib/python3.12/site-packages/selenium/webdriver/remote/errorhandler.py:232\u001b[0m, in \u001b[0;36mErrorHandler.check_response\u001b[0;34m(self, response)\u001b[0m\n\u001b[1;32m    230\u001b[0m         alert_text \u001b[38;5;241m=\u001b[39m value[\u001b[38;5;124m\"\u001b[39m\u001b[38;5;124malert\u001b[39m\u001b[38;5;124m\"\u001b[39m]\u001b[38;5;241m.\u001b[39mget(\u001b[38;5;124m\"\u001b[39m\u001b[38;5;124mtext\u001b[39m\u001b[38;5;124m\"\u001b[39m)\n\u001b[1;32m    231\u001b[0m     \u001b[38;5;28;01mraise\u001b[39;00m exception_class(message, screen, stacktrace, alert_text)  \u001b[38;5;66;03m# type: ignore[call-arg]  # mypy is not smart enough here\u001b[39;00m\n\u001b[0;32m--> 232\u001b[0m \u001b[38;5;28;01mraise\u001b[39;00m exception_class(message, screen, stacktrace)\n",
      "\u001b[0;31mNoSuchWindowException\u001b[0m: Message: no such window: target window already closed\nfrom unknown error: web view not found\n  (Session info: chrome=120.0.6099.234)\nStacktrace:\n0   chromedriver                        0x0000000102e944dc chromedriver + 4162780\n1   chromedriver                        0x0000000102e8c664 chromedriver + 4130404\n2   chromedriver                        0x0000000102ae3bc0 chromedriver + 293824\n3   chromedriver                        0x0000000102abc6c0 chromedriver + 132800\n4   chromedriver                        0x0000000102b5525c chromedriver + 758364\n5   chromedriver                        0x0000000102b5ab70 chromedriver + 781168\n6   chromedriver                        0x0000000102b1d6bc chromedriver + 530108\n7   chromedriver                        0x0000000102b1e930 chromedriver + 534832\n8   chromedriver                        0x0000000102e59e08 chromedriver + 3923464\n9   chromedriver                        0x0000000102e5e3dc chromedriver + 3941340\n10  chromedriver                        0x0000000102e42038 chromedriver + 3825720\n11  chromedriver                        0x0000000102e5ef3c chromedriver + 3944252\n12  chromedriver                        0x0000000102e346f4 chromedriver + 3770100\n13  chromedriver                        0x0000000102e7b980 chromedriver + 4061568\n14  chromedriver                        0x0000000102e7baf8 chromedriver + 4061944\n15  chromedriver                        0x0000000102e8c2e4 chromedriver + 4129508\n16  libsystem_pthread.dylib             0x00000001819fe034 _pthread_start + 136\n17  libsystem_pthread.dylib             0x00000001819f8e3c thread_start + 8\n"
     ]
    }
   ],
   "source": [
    "si.obtener_conocidos()"
   ]
  },
  {
   "cell_type": "code",
   "execution_count": 18,
   "metadata": {},
   "outputs": [
    {
     "name": "stderr",
     "output_type": "stream",
     "text": [
      "  9%|▉         | 2805/30749 [00:19<03:18, 140.50it/s]\n"
     ]
    },
    {
     "ename": "NoSuchWindowException",
     "evalue": "Message: no such window: target window already closed\nfrom unknown error: web view not found\n  (Session info: chrome=120.0.6099.234)\nStacktrace:\n0   chromedriver                        0x00000001005404dc chromedriver + 4162780\n1   chromedriver                        0x0000000100538664 chromedriver + 4130404\n2   chromedriver                        0x000000010018fbc0 chromedriver + 293824\n3   chromedriver                        0x00000001001686c0 chromedriver + 132800\n4   chromedriver                        0x000000010020125c chromedriver + 758364\n5   chromedriver                        0x0000000100206b70 chromedriver + 781168\n6   chromedriver                        0x00000001001c96bc chromedriver + 530108\n7   chromedriver                        0x00000001001ca930 chromedriver + 534832\n8   chromedriver                        0x0000000100505e08 chromedriver + 3923464\n9   chromedriver                        0x000000010050a3dc chromedriver + 3941340\n10  chromedriver                        0x00000001004ee038 chromedriver + 3825720\n11  chromedriver                        0x000000010050af3c chromedriver + 3944252\n12  chromedriver                        0x00000001004e06f4 chromedriver + 3770100\n13  chromedriver                        0x0000000100527980 chromedriver + 4061568\n14  chromedriver                        0x0000000100527af8 chromedriver + 4061944\n15  chromedriver                        0x00000001005382e4 chromedriver + 4129508\n16  libsystem_pthread.dylib             0x00000001819fe034 _pthread_start + 136\n17  libsystem_pthread.dylib             0x00000001819f8e3c thread_start + 8\n",
     "output_type": "error",
     "traceback": [
      "\u001b[0;31m---------------------------------------------------------------------------\u001b[0m",
      "\u001b[0;31mNoSuchWindowException\u001b[0m                     Traceback (most recent call last)",
      "File \u001b[0;32m~/Desktop/Frikeo/StreamWise/notebooks/../src/sp_imdb.py:247\u001b[0m, in \u001b[0;36mobtener_info_actores\u001b[0;34m()\u001b[0m\n\u001b[1;32m    246\u001b[0m \u001b[38;5;28;01mtry\u001b[39;00m:\n\u001b[0;32m--> 247\u001b[0m     busqueda_actor \u001b[38;5;241m=\u001b[39m \u001b[43mdriver\u001b[49m\u001b[38;5;241;43m.\u001b[39;49m\u001b[43mfind_element\u001b[49m\u001b[43m(\u001b[49m\u001b[38;5;124;43m'\u001b[39;49m\u001b[38;5;124;43mcss selector\u001b[39;49m\u001b[38;5;124;43m'\u001b[39;49m\u001b[43m,\u001b[49m\u001b[43m \u001b[49m\u001b[38;5;124;43m'\u001b[39;49m\u001b[38;5;124;43m#suggestion-search\u001b[39;49m\u001b[38;5;124;43m'\u001b[39;49m\u001b[43m)\u001b[49m\u001b[38;5;241m.\u001b[39msend_keys(actor, Keys\u001b[38;5;241m.\u001b[39mENTER)\n\u001b[1;32m    248\u001b[0m     driver\u001b[38;5;241m.\u001b[39mimplicitly_wait(\u001b[38;5;241m3\u001b[39m)\n",
      "File \u001b[0;32m/opt/homebrew/Caskroom/miniconda/base/envs/StreanWise/lib/python3.12/site-packages/selenium/webdriver/remote/webdriver.py:888\u001b[0m, in \u001b[0;36mWebDriver.find_element\u001b[0;34m(self, by, value)\u001b[0m\n\u001b[1;32m    886\u001b[0m     \u001b[38;5;28;01mreturn\u001b[39;00m elements[\u001b[38;5;241m0\u001b[39m]\n\u001b[0;32m--> 888\u001b[0m \u001b[38;5;28;01mreturn\u001b[39;00m \u001b[38;5;28;43mself\u001b[39;49m\u001b[38;5;241;43m.\u001b[39;49m\u001b[43mexecute\u001b[49m\u001b[43m(\u001b[49m\u001b[43mCommand\u001b[49m\u001b[38;5;241;43m.\u001b[39;49m\u001b[43mFIND_ELEMENT\u001b[49m\u001b[43m,\u001b[49m\u001b[43m \u001b[49m\u001b[43m{\u001b[49m\u001b[38;5;124;43m\"\u001b[39;49m\u001b[38;5;124;43musing\u001b[39;49m\u001b[38;5;124;43m\"\u001b[39;49m\u001b[43m:\u001b[49m\u001b[43m \u001b[49m\u001b[43mby\u001b[49m\u001b[43m,\u001b[49m\u001b[43m \u001b[49m\u001b[38;5;124;43m\"\u001b[39;49m\u001b[38;5;124;43mvalue\u001b[39;49m\u001b[38;5;124;43m\"\u001b[39;49m\u001b[43m:\u001b[49m\u001b[43m \u001b[49m\u001b[43mvalue\u001b[49m\u001b[43m}\u001b[49m\u001b[43m)\u001b[49m[\u001b[38;5;124m\"\u001b[39m\u001b[38;5;124mvalue\u001b[39m\u001b[38;5;124m\"\u001b[39m]\n",
      "File \u001b[0;32m/opt/homebrew/Caskroom/miniconda/base/envs/StreanWise/lib/python3.12/site-packages/selenium/webdriver/remote/webdriver.py:429\u001b[0m, in \u001b[0;36mWebDriver.execute\u001b[0;34m(self, driver_command, params)\u001b[0m\n\u001b[1;32m    428\u001b[0m \u001b[38;5;28;01mif\u001b[39;00m response:\n\u001b[0;32m--> 429\u001b[0m     \u001b[38;5;28;43mself\u001b[39;49m\u001b[38;5;241;43m.\u001b[39;49m\u001b[43merror_handler\u001b[49m\u001b[38;5;241;43m.\u001b[39;49m\u001b[43mcheck_response\u001b[49m\u001b[43m(\u001b[49m\u001b[43mresponse\u001b[49m\u001b[43m)\u001b[49m\n\u001b[1;32m    430\u001b[0m     response[\u001b[38;5;124m\"\u001b[39m\u001b[38;5;124mvalue\u001b[39m\u001b[38;5;124m\"\u001b[39m] \u001b[38;5;241m=\u001b[39m \u001b[38;5;28mself\u001b[39m\u001b[38;5;241m.\u001b[39m_unwrap_value(response\u001b[38;5;241m.\u001b[39mget(\u001b[38;5;124m\"\u001b[39m\u001b[38;5;124mvalue\u001b[39m\u001b[38;5;124m\"\u001b[39m, \u001b[38;5;28;01mNone\u001b[39;00m))\n",
      "File \u001b[0;32m/opt/homebrew/Caskroom/miniconda/base/envs/StreanWise/lib/python3.12/site-packages/selenium/webdriver/remote/errorhandler.py:232\u001b[0m, in \u001b[0;36mErrorHandler.check_response\u001b[0;34m(self, response)\u001b[0m\n\u001b[1;32m    231\u001b[0m     \u001b[38;5;28;01mraise\u001b[39;00m exception_class(message, screen, stacktrace, alert_text)  \u001b[38;5;66;03m# type: ignore[call-arg]  # mypy is not smart enough here\u001b[39;00m\n\u001b[0;32m--> 232\u001b[0m \u001b[38;5;28;01mraise\u001b[39;00m exception_class(message, screen, stacktrace)\n",
      "\u001b[0;31mNoSuchWindowException\u001b[0m: Message: no such window: target window already closed\nfrom unknown error: web view not found\n  (Session info: chrome=120.0.6099.234)\nStacktrace:\n0   chromedriver                        0x00000001005404dc chromedriver + 4162780\n1   chromedriver                        0x0000000100538664 chromedriver + 4130404\n2   chromedriver                        0x000000010018fbc0 chromedriver + 293824\n3   chromedriver                        0x00000001001686c0 chromedriver + 132800\n4   chromedriver                        0x000000010020125c chromedriver + 758364\n5   chromedriver                        0x0000000100215294 chromedriver + 840340\n6   chromedriver                        0x00000001001c96bc chromedriver + 530108\n7   chromedriver                        0x00000001001ca930 chromedriver + 534832\n8   chromedriver                        0x0000000100505e08 chromedriver + 3923464\n9   chromedriver                        0x000000010050a3dc chromedriver + 3941340\n10  chromedriver                        0x00000001004ee038 chromedriver + 3825720\n11  chromedriver                        0x000000010050af3c chromedriver + 3944252\n12  chromedriver                        0x00000001004e06f4 chromedriver + 3770100\n13  chromedriver                        0x0000000100527980 chromedriver + 4061568\n14  chromedriver                        0x0000000100527af8 chromedriver + 4061944\n15  chromedriver                        0x00000001005382e4 chromedriver + 4129508\n16  libsystem_pthread.dylib             0x00000001819fe034 _pthread_start + 136\n17  libsystem_pthread.dylib             0x00000001819f8e3c thread_start + 8\n",
      "\nDuring handling of the above exception, another exception occurred:\n",
      "\u001b[0;31mNoSuchWindowException\u001b[0m                     Traceback (most recent call last)",
      "Cell \u001b[0;32mIn[18], line 1\u001b[0m\n\u001b[0;32m----> 1\u001b[0m \u001b[43msi\u001b[49m\u001b[38;5;241;43m.\u001b[39;49m\u001b[43mobtener_info_actores\u001b[49m\u001b[43m(\u001b[49m\u001b[43m)\u001b[49m\n",
      "File \u001b[0;32m~/Desktop/Frikeo/StreamWise/notebooks/../src/sp_imdb.py:252\u001b[0m, in \u001b[0;36mobtener_info_actores\u001b[0;34m()\u001b[0m\n\u001b[1;32m    249\u001b[0m     driver\u001b[38;5;241m.\u001b[39mfind_element(\u001b[38;5;124m\"\u001b[39m\u001b[38;5;124mcss selector\u001b[39m\u001b[38;5;124m\"\u001b[39m, \u001b[38;5;124m\"\u001b[39m\u001b[38;5;124m#__next > main > div.ipc-page-content-container.ipc-page-content-container--full.sc-9b6c53e1-0.jTQUPo > div.ipc-page-content-container.ipc-page-content-container--center > section > div > div.ipc-page-grid__item.ipc-page-grid__item--span-2 > section:nth-child(4) > div.sc-b03627f1-2.gWHDBT > ul > li:nth-child(1) > div.ipc-metadata-list-summary-item__c > div > a\u001b[39m\u001b[38;5;124m\"\u001b[39m)\u001b[38;5;241m.\u001b[39mclick()\n\u001b[1;32m    251\u001b[0m \u001b[38;5;28;01mexcept\u001b[39;00m:\n\u001b[0;32m--> 252\u001b[0m     \u001b[43mdriver\u001b[49m\u001b[38;5;241;43m.\u001b[39;49m\u001b[43mclose\u001b[49m\u001b[43m(\u001b[49m\u001b[43m)\u001b[49m\n\u001b[1;32m    253\u001b[0m     \u001b[38;5;66;03m#Abrimos el Chrome\u001b[39;00m\n\u001b[1;32m    254\u001b[0m     driver \u001b[38;5;241m=\u001b[39m webdriver\u001b[38;5;241m.\u001b[39mChrome()\n",
      "File \u001b[0;32m/opt/homebrew/Caskroom/miniconda/base/envs/StreanWise/lib/python3.12/site-packages/selenium/webdriver/remote/webdriver.py:579\u001b[0m, in \u001b[0;36mWebDriver.close\u001b[0;34m(self)\u001b[0m\n\u001b[1;32m    572\u001b[0m \u001b[38;5;28;01mdef\u001b[39;00m \u001b[38;5;21mclose\u001b[39m(\u001b[38;5;28mself\u001b[39m) \u001b[38;5;241m-\u001b[39m\u001b[38;5;241m>\u001b[39m \u001b[38;5;28;01mNone\u001b[39;00m:\n\u001b[1;32m    573\u001b[0m \u001b[38;5;250m    \u001b[39m\u001b[38;5;124;03m\"\"\"Closes the current window.\u001b[39;00m\n\u001b[1;32m    574\u001b[0m \n\u001b[1;32m    575\u001b[0m \u001b[38;5;124;03m    Example:\u001b[39;00m\n\u001b[1;32m    576\u001b[0m \u001b[38;5;124;03m    --------\u001b[39;00m\n\u001b[1;32m    577\u001b[0m \u001b[38;5;124;03m    >>> driver.close()\u001b[39;00m\n\u001b[1;32m    578\u001b[0m \u001b[38;5;124;03m    \"\"\"\u001b[39;00m\n\u001b[0;32m--> 579\u001b[0m     \u001b[38;5;28;43mself\u001b[39;49m\u001b[38;5;241;43m.\u001b[39;49m\u001b[43mexecute\u001b[49m\u001b[43m(\u001b[49m\u001b[43mCommand\u001b[49m\u001b[38;5;241;43m.\u001b[39;49m\u001b[43mCLOSE\u001b[49m\u001b[43m)\u001b[49m\n",
      "File \u001b[0;32m/opt/homebrew/Caskroom/miniconda/base/envs/StreanWise/lib/python3.12/site-packages/selenium/webdriver/remote/webdriver.py:429\u001b[0m, in \u001b[0;36mWebDriver.execute\u001b[0;34m(self, driver_command, params)\u001b[0m\n\u001b[1;32m    427\u001b[0m response \u001b[38;5;241m=\u001b[39m \u001b[38;5;28mself\u001b[39m\u001b[38;5;241m.\u001b[39mcommand_executor\u001b[38;5;241m.\u001b[39mexecute(driver_command, params)\n\u001b[1;32m    428\u001b[0m \u001b[38;5;28;01mif\u001b[39;00m response:\n\u001b[0;32m--> 429\u001b[0m     \u001b[38;5;28;43mself\u001b[39;49m\u001b[38;5;241;43m.\u001b[39;49m\u001b[43merror_handler\u001b[49m\u001b[38;5;241;43m.\u001b[39;49m\u001b[43mcheck_response\u001b[49m\u001b[43m(\u001b[49m\u001b[43mresponse\u001b[49m\u001b[43m)\u001b[49m\n\u001b[1;32m    430\u001b[0m     response[\u001b[38;5;124m\"\u001b[39m\u001b[38;5;124mvalue\u001b[39m\u001b[38;5;124m\"\u001b[39m] \u001b[38;5;241m=\u001b[39m \u001b[38;5;28mself\u001b[39m\u001b[38;5;241m.\u001b[39m_unwrap_value(response\u001b[38;5;241m.\u001b[39mget(\u001b[38;5;124m\"\u001b[39m\u001b[38;5;124mvalue\u001b[39m\u001b[38;5;124m\"\u001b[39m, \u001b[38;5;28;01mNone\u001b[39;00m))\n\u001b[1;32m    431\u001b[0m     \u001b[38;5;28;01mreturn\u001b[39;00m response\n",
      "File \u001b[0;32m/opt/homebrew/Caskroom/miniconda/base/envs/StreanWise/lib/python3.12/site-packages/selenium/webdriver/remote/errorhandler.py:232\u001b[0m, in \u001b[0;36mErrorHandler.check_response\u001b[0;34m(self, response)\u001b[0m\n\u001b[1;32m    230\u001b[0m         alert_text \u001b[38;5;241m=\u001b[39m value[\u001b[38;5;124m\"\u001b[39m\u001b[38;5;124malert\u001b[39m\u001b[38;5;124m\"\u001b[39m]\u001b[38;5;241m.\u001b[39mget(\u001b[38;5;124m\"\u001b[39m\u001b[38;5;124mtext\u001b[39m\u001b[38;5;124m\"\u001b[39m)\n\u001b[1;32m    231\u001b[0m     \u001b[38;5;28;01mraise\u001b[39;00m exception_class(message, screen, stacktrace, alert_text)  \u001b[38;5;66;03m# type: ignore[call-arg]  # mypy is not smart enough here\u001b[39;00m\n\u001b[0;32m--> 232\u001b[0m \u001b[38;5;28;01mraise\u001b[39;00m exception_class(message, screen, stacktrace)\n",
      "\u001b[0;31mNoSuchWindowException\u001b[0m: Message: no such window: target window already closed\nfrom unknown error: web view not found\n  (Session info: chrome=120.0.6099.234)\nStacktrace:\n0   chromedriver                        0x00000001005404dc chromedriver + 4162780\n1   chromedriver                        0x0000000100538664 chromedriver + 4130404\n2   chromedriver                        0x000000010018fbc0 chromedriver + 293824\n3   chromedriver                        0x00000001001686c0 chromedriver + 132800\n4   chromedriver                        0x000000010020125c chromedriver + 758364\n5   chromedriver                        0x0000000100206b70 chromedriver + 781168\n6   chromedriver                        0x00000001001c96bc chromedriver + 530108\n7   chromedriver                        0x00000001001ca930 chromedriver + 534832\n8   chromedriver                        0x0000000100505e08 chromedriver + 3923464\n9   chromedriver                        0x000000010050a3dc chromedriver + 3941340\n10  chromedriver                        0x00000001004ee038 chromedriver + 3825720\n11  chromedriver                        0x000000010050af3c chromedriver + 3944252\n12  chromedriver                        0x00000001004e06f4 chromedriver + 3770100\n13  chromedriver                        0x0000000100527980 chromedriver + 4061568\n14  chromedriver                        0x0000000100527af8 chromedriver + 4061944\n15  chromedriver                        0x00000001005382e4 chromedriver + 4129508\n16  libsystem_pthread.dylib             0x00000001819fe034 _pthread_start + 136\n17  libsystem_pthread.dylib             0x00000001819f8e3c thread_start + 8\n"
     ]
    }
   ],
   "source": [
    "si.obtener_info_actores()"
   ]
  },
  {
   "cell_type": "code",
   "execution_count": 53,
   "metadata": {},
   "outputs": [],
   "source": [
    "actores_eliminar = list(actores.find({\"$and\":[{'year':float('nan')}, {'roles':float('nan')}, {'premios':float('nan')}]}))"
   ]
  },
  {
   "cell_type": "code",
   "execution_count": 55,
   "metadata": {},
   "outputs": [],
   "source": [
    "for actor in actores_eliminar:\n",
    "    actores.delete_one({\"_id\": actor['_id']})"
   ]
  }
 ],
 "metadata": {
  "kernelspec": {
   "display_name": "StreanWise",
   "language": "python",
   "name": "python3"
  },
  "language_info": {
   "codemirror_mode": {
    "name": "ipython",
    "version": 3
   },
   "file_extension": ".py",
   "mimetype": "text/x-python",
   "name": "python",
   "nbconvert_exporter": "python",
   "pygments_lexer": "ipython3",
   "version": "3.12.8"
  }
 },
 "nbformat": 4,
 "nbformat_minor": 2
}
